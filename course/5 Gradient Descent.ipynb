{
 "cells": [
  {
   "cell_type": "markdown",
   "metadata": {},
   "source": [
    "# Gradient Descent"
   ]
  },
  {
   "cell_type": "code",
   "execution_count": 1,
   "metadata": {},
   "outputs": [],
   "source": [
    "import numpy as np\n",
    "import pandas as pd\n",
    "%matplotlib inline\n",
    "import matplotlib.pyplot as plt"
   ]
  },
  {
   "cell_type": "markdown",
   "metadata": {},
   "source": [
    "## Linear Algebra with Numpy"
   ]
  },
  {
   "cell_type": "code",
   "execution_count": 2,
   "metadata": {},
   "outputs": [],
   "source": [
    "a = np.array([1, 3, 2, 4])"
   ]
  },
  {
   "cell_type": "code",
   "execution_count": 3,
   "metadata": {},
   "outputs": [
    {
     "data": {
      "text/plain": [
       "array([1, 3, 2, 4])"
      ]
     },
     "execution_count": 3,
     "metadata": {},
     "output_type": "execute_result"
    }
   ],
   "source": [
    "a"
   ]
  },
  {
   "cell_type": "code",
   "execution_count": 4,
   "metadata": {},
   "outputs": [
    {
     "data": {
      "text/plain": [
       "numpy.ndarray"
      ]
     },
     "execution_count": 4,
     "metadata": {},
     "output_type": "execute_result"
    }
   ],
   "source": [
    "type(a)"
   ]
  },
  {
   "cell_type": "code",
   "execution_count": 5,
   "metadata": {},
   "outputs": [
    {
     "name": "stdout",
     "output_type": "stream",
     "text": [
      "A is a (2, 3) matrix\n",
      "B is a (3, 2) matrix\n",
      "C is a (6, 2) matrix\n"
     ]
    }
   ],
   "source": [
    "A = np.array([[3, 1, 2],\n",
    "              [2, 3, 4]])\n",
    "\n",
    "B = np.array([[0, 1],\n",
    "              [2, 3],\n",
    "              [4, 5]])\n",
    "\n",
    "C = np.array([[0, 1],\n",
    "              [2, 3],\n",
    "              [4, 5],\n",
    "              [0, 1],\n",
    "              [2, 3],\n",
    "              [4, 5]])\n",
    "\n",
    "print(\"A is a {} matrix\".format(A.shape))\n",
    "print(\"B is a {} matrix\".format(B.shape))\n",
    "print(\"C is a {} matrix\".format(C.shape))"
   ]
  },
  {
   "cell_type": "code",
   "execution_count": 6,
   "metadata": {},
   "outputs": [
    {
     "data": {
      "text/plain": [
       "array([3, 1, 2])"
      ]
     },
     "execution_count": 6,
     "metadata": {},
     "output_type": "execute_result"
    }
   ],
   "source": [
    "A[0]"
   ]
  },
  {
   "cell_type": "code",
   "execution_count": 7,
   "metadata": {},
   "outputs": [
    {
     "data": {
      "text/plain": [
       "4"
      ]
     },
     "execution_count": 7,
     "metadata": {},
     "output_type": "execute_result"
    }
   ],
   "source": [
    "C[2, 0]"
   ]
  },
  {
   "cell_type": "code",
   "execution_count": 8,
   "metadata": {},
   "outputs": [
    {
     "data": {
      "text/plain": [
       "array([0, 2, 4])"
      ]
     },
     "execution_count": 8,
     "metadata": {},
     "output_type": "execute_result"
    }
   ],
   "source": [
    "B[:, 0]"
   ]
  },
  {
   "cell_type": "markdown",
   "metadata": {},
   "source": [
    "### Elementwise operations"
   ]
  },
  {
   "cell_type": "code",
   "execution_count": 9,
   "metadata": {},
   "outputs": [
    {
     "data": {
      "text/plain": [
       "array([[ 9,  3,  6],\n",
       "       [ 6,  9, 12]])"
      ]
     },
     "execution_count": 9,
     "metadata": {},
     "output_type": "execute_result"
    }
   ],
   "source": [
    "3 * A"
   ]
  },
  {
   "cell_type": "code",
   "execution_count": 10,
   "metadata": {},
   "outputs": [
    {
     "data": {
      "text/plain": [
       "array([[6, 2, 4],\n",
       "       [4, 6, 8]])"
      ]
     },
     "execution_count": 10,
     "metadata": {},
     "output_type": "execute_result"
    }
   ],
   "source": [
    "A + A"
   ]
  },
  {
   "cell_type": "code",
   "execution_count": 11,
   "metadata": {},
   "outputs": [
    {
     "data": {
      "text/plain": [
       "array([[ 9,  1,  4],\n",
       "       [ 4,  9, 16]])"
      ]
     },
     "execution_count": 11,
     "metadata": {},
     "output_type": "execute_result"
    }
   ],
   "source": [
    "A * A"
   ]
  },
  {
   "cell_type": "code",
   "execution_count": 12,
   "metadata": {},
   "outputs": [
    {
     "data": {
      "text/plain": [
       "array([[1., 1., 1.],\n",
       "       [1., 1., 1.]])"
      ]
     },
     "execution_count": 12,
     "metadata": {},
     "output_type": "execute_result"
    }
   ],
   "source": [
    "A / A"
   ]
  },
  {
   "cell_type": "code",
   "execution_count": 13,
   "metadata": {},
   "outputs": [
    {
     "data": {
      "text/plain": [
       "array([[0, 0, 0],\n",
       "       [0, 0, 0]])"
      ]
     },
     "execution_count": 13,
     "metadata": {},
     "output_type": "execute_result"
    }
   ],
   "source": [
    "A - A"
   ]
  },
  {
   "cell_type": "markdown",
   "metadata": {},
   "source": [
    "Uncomment the code in the next cells. You will see that tensors of different shape cannot be added or multiplied:"
   ]
  },
  {
   "cell_type": "code",
   "execution_count": 14,
   "metadata": {},
   "outputs": [],
   "source": [
    "# A + B"
   ]
  },
  {
   "cell_type": "code",
   "execution_count": 15,
   "metadata": {},
   "outputs": [],
   "source": [
    "# A * B"
   ]
  },
  {
   "cell_type": "markdown",
   "metadata": {},
   "source": [
    "### Dot product"
   ]
  },
  {
   "cell_type": "code",
   "execution_count": 16,
   "metadata": {},
   "outputs": [
    {
     "data": {
      "text/plain": [
       "(2, 3)"
      ]
     },
     "execution_count": 16,
     "metadata": {},
     "output_type": "execute_result"
    }
   ],
   "source": [
    "A.shape"
   ]
  },
  {
   "cell_type": "code",
   "execution_count": 17,
   "metadata": {},
   "outputs": [
    {
     "data": {
      "text/plain": [
       "(3, 2)"
      ]
     },
     "execution_count": 17,
     "metadata": {},
     "output_type": "execute_result"
    }
   ],
   "source": [
    "B.shape"
   ]
  },
  {
   "cell_type": "code",
   "execution_count": 18,
   "metadata": {},
   "outputs": [
    {
     "data": {
      "text/plain": [
       "array([[10, 16],\n",
       "       [22, 31]])"
      ]
     },
     "execution_count": 18,
     "metadata": {},
     "output_type": "execute_result"
    }
   ],
   "source": [
    "A.dot(B)"
   ]
  },
  {
   "cell_type": "code",
   "execution_count": 19,
   "metadata": {},
   "outputs": [
    {
     "data": {
      "text/plain": [
       "array([[10, 16],\n",
       "       [22, 31]])"
      ]
     },
     "execution_count": 19,
     "metadata": {},
     "output_type": "execute_result"
    }
   ],
   "source": [
    "np.dot(A, B)"
   ]
  },
  {
   "cell_type": "code",
   "execution_count": 20,
   "metadata": {},
   "outputs": [
    {
     "data": {
      "text/plain": [
       "array([[ 2,  3,  4],\n",
       "       [12, 11, 16],\n",
       "       [22, 19, 28]])"
      ]
     },
     "execution_count": 20,
     "metadata": {},
     "output_type": "execute_result"
    }
   ],
   "source": [
    "B.dot(A)"
   ]
  },
  {
   "cell_type": "code",
   "execution_count": 21,
   "metadata": {},
   "outputs": [
    {
     "data": {
      "text/plain": [
       "(6, 2)"
      ]
     },
     "execution_count": 21,
     "metadata": {},
     "output_type": "execute_result"
    }
   ],
   "source": [
    "C.shape"
   ]
  },
  {
   "cell_type": "code",
   "execution_count": 22,
   "metadata": {},
   "outputs": [
    {
     "data": {
      "text/plain": [
       "(2, 3)"
      ]
     },
     "execution_count": 22,
     "metadata": {},
     "output_type": "execute_result"
    }
   ],
   "source": [
    "A.shape"
   ]
  },
  {
   "cell_type": "code",
   "execution_count": 23,
   "metadata": {},
   "outputs": [
    {
     "data": {
      "text/plain": [
       "array([[ 2,  3,  4],\n",
       "       [12, 11, 16],\n",
       "       [22, 19, 28],\n",
       "       [ 2,  3,  4],\n",
       "       [12, 11, 16],\n",
       "       [22, 19, 28]])"
      ]
     },
     "execution_count": 23,
     "metadata": {},
     "output_type": "execute_result"
    }
   ],
   "source": [
    "C.dot(A)"
   ]
  },
  {
   "cell_type": "markdown",
   "metadata": {},
   "source": [
    "Uncomment the code in the next cell to visualize the error:"
   ]
  },
  {
   "cell_type": "code",
   "execution_count": 24,
   "metadata": {},
   "outputs": [],
   "source": [
    "# A.dot(C)"
   ]
  },
  {
   "cell_type": "markdown",
   "metadata": {},
   "source": [
    "## Gradient descent"
   ]
  },
  {
   "cell_type": "markdown",
   "metadata": {},
   "source": [
    "![](../data/banknotes.png)"
   ]
  },
  {
   "cell_type": "code",
   "execution_count": 25,
   "metadata": {},
   "outputs": [],
   "source": [
    "df = pd.read_csv('../data/banknotes.csv')"
   ]
  },
  {
   "cell_type": "code",
   "execution_count": 26,
   "metadata": {},
   "outputs": [
    {
     "data": {
      "text/html": [
       "<div>\n",
       "<style scoped>\n",
       "    .dataframe tbody tr th:only-of-type {\n",
       "        vertical-align: middle;\n",
       "    }\n",
       "\n",
       "    .dataframe tbody tr th {\n",
       "        vertical-align: top;\n",
       "    }\n",
       "\n",
       "    .dataframe thead th {\n",
       "        text-align: right;\n",
       "    }\n",
       "</style>\n",
       "<table border=\"1\" class=\"dataframe\">\n",
       "  <thead>\n",
       "    <tr style=\"text-align: right;\">\n",
       "      <th></th>\n",
       "      <th>variace</th>\n",
       "      <th>skewness</th>\n",
       "      <th>curtosis</th>\n",
       "      <th>entropy</th>\n",
       "      <th>class</th>\n",
       "    </tr>\n",
       "  </thead>\n",
       "  <tbody>\n",
       "    <tr>\n",
       "      <th>0</th>\n",
       "      <td>3.62160</td>\n",
       "      <td>8.6661</td>\n",
       "      <td>-2.8073</td>\n",
       "      <td>-0.44699</td>\n",
       "      <td>0</td>\n",
       "    </tr>\n",
       "    <tr>\n",
       "      <th>1</th>\n",
       "      <td>4.54590</td>\n",
       "      <td>8.1674</td>\n",
       "      <td>-2.4586</td>\n",
       "      <td>-1.46210</td>\n",
       "      <td>0</td>\n",
       "    </tr>\n",
       "    <tr>\n",
       "      <th>2</th>\n",
       "      <td>3.86600</td>\n",
       "      <td>-2.6383</td>\n",
       "      <td>1.9242</td>\n",
       "      <td>0.10645</td>\n",
       "      <td>0</td>\n",
       "    </tr>\n",
       "    <tr>\n",
       "      <th>3</th>\n",
       "      <td>3.45660</td>\n",
       "      <td>9.5228</td>\n",
       "      <td>-4.0112</td>\n",
       "      <td>-3.59440</td>\n",
       "      <td>0</td>\n",
       "    </tr>\n",
       "    <tr>\n",
       "      <th>4</th>\n",
       "      <td>0.32924</td>\n",
       "      <td>-4.4552</td>\n",
       "      <td>4.5718</td>\n",
       "      <td>-0.98880</td>\n",
       "      <td>0</td>\n",
       "    </tr>\n",
       "  </tbody>\n",
       "</table>\n",
       "</div>"
      ],
      "text/plain": [
       "   variace  skewness  curtosis  entropy  class\n",
       "0  3.62160    8.6661   -2.8073 -0.44699      0\n",
       "1  4.54590    8.1674   -2.4586 -1.46210      0\n",
       "2  3.86600   -2.6383    1.9242  0.10645      0\n",
       "3  3.45660    9.5228   -4.0112 -3.59440      0\n",
       "4  0.32924   -4.4552    4.5718 -0.98880      0"
      ]
     },
     "execution_count": 26,
     "metadata": {},
     "output_type": "execute_result"
    }
   ],
   "source": [
    "df.head()"
   ]
  },
  {
   "cell_type": "code",
   "execution_count": 27,
   "metadata": {},
   "outputs": [
    {
     "data": {
      "text/plain": [
       "0    762\n",
       "1    610\n",
       "Name: class, dtype: int64"
      ]
     },
     "execution_count": 27,
     "metadata": {},
     "output_type": "execute_result"
    }
   ],
   "source": [
    "df['class'].value_counts()"
   ]
  },
  {
   "cell_type": "code",
   "execution_count": 28,
   "metadata": {},
   "outputs": [
    {
     "data": {
      "text/plain": [
       "Index(['variace', 'skewness', 'curtosis', 'entropy', 'class'], dtype='object')"
      ]
     },
     "execution_count": 28,
     "metadata": {},
     "output_type": "execute_result"
    }
   ],
   "source": [
    "df.columns"
   ]
  },
  {
   "cell_type": "code",
   "execution_count": 29,
   "metadata": {},
   "outputs": [
    {
     "ename": "LinAlgError",
     "evalue": "singular matrix",
     "output_type": "error",
     "traceback": [
      "\u001b[0;31m---------------------------------------------------------------------------\u001b[0m",
      "\u001b[0;31mLinAlgError\u001b[0m                               Traceback (most recent call last)",
      "\u001b[0;32m<ipython-input-29-fda121c9cea8>\u001b[0m in \u001b[0;36m<module>\u001b[0;34m\u001b[0m\n\u001b[1;32m      1\u001b[0m \u001b[0;32mimport\u001b[0m \u001b[0mseaborn\u001b[0m \u001b[0;32mas\u001b[0m \u001b[0msns\u001b[0m\u001b[0;34m\u001b[0m\u001b[0;34m\u001b[0m\u001b[0m\n\u001b[0;32m----> 2\u001b[0;31m \u001b[0msns\u001b[0m\u001b[0;34m.\u001b[0m\u001b[0mpairplot\u001b[0m\u001b[0;34m(\u001b[0m\u001b[0mdf\u001b[0m\u001b[0;34m[\u001b[0m\u001b[0;34m[\u001b[0m\u001b[0;34m\"variace\"\u001b[0m\u001b[0;34m,\u001b[0m \u001b[0;34m\"skewness\"\u001b[0m\u001b[0;34m,\u001b[0m \u001b[0;34m\"class\"\u001b[0m\u001b[0;34m]\u001b[0m\u001b[0;34m]\u001b[0m\u001b[0;34m,\u001b[0m \u001b[0mhue\u001b[0m\u001b[0;34m=\u001b[0m\u001b[0;34m\"class\"\u001b[0m\u001b[0;34m)\u001b[0m\u001b[0;34m\u001b[0m\u001b[0;34m\u001b[0m\u001b[0m\n\u001b[0m",
      "\u001b[0;32m~/Envs/ds_py3/lib/python3.7/site-packages/seaborn/axisgrid.py\u001b[0m in \u001b[0;36mpairplot\u001b[0;34m(data, hue, hue_order, palette, vars, x_vars, y_vars, kind, diag_kind, markers, height, aspect, dropna, plot_kws, diag_kws, grid_kws, size)\u001b[0m\n\u001b[1;32m   2109\u001b[0m             \u001b[0mdiag_kws\u001b[0m\u001b[0;34m.\u001b[0m\u001b[0msetdefault\u001b[0m\u001b[0;34m(\u001b[0m\u001b[0;34m\"shade\"\u001b[0m\u001b[0;34m,\u001b[0m \u001b[0;32mTrue\u001b[0m\u001b[0;34m)\u001b[0m\u001b[0;34m\u001b[0m\u001b[0;34m\u001b[0m\u001b[0m\n\u001b[1;32m   2110\u001b[0m             \u001b[0mdiag_kws\u001b[0m\u001b[0;34m[\u001b[0m\u001b[0;34m\"legend\"\u001b[0m\u001b[0;34m]\u001b[0m \u001b[0;34m=\u001b[0m \u001b[0;32mFalse\u001b[0m\u001b[0;34m\u001b[0m\u001b[0;34m\u001b[0m\u001b[0m\n\u001b[0;32m-> 2111\u001b[0;31m             \u001b[0mgrid\u001b[0m\u001b[0;34m.\u001b[0m\u001b[0mmap_diag\u001b[0m\u001b[0;34m(\u001b[0m\u001b[0mkdeplot\u001b[0m\u001b[0;34m,\u001b[0m \u001b[0;34m**\u001b[0m\u001b[0mdiag_kws\u001b[0m\u001b[0;34m)\u001b[0m\u001b[0;34m\u001b[0m\u001b[0;34m\u001b[0m\u001b[0m\n\u001b[0m\u001b[1;32m   2112\u001b[0m \u001b[0;34m\u001b[0m\u001b[0m\n\u001b[1;32m   2113\u001b[0m     \u001b[0;31m# Maybe plot on the off-diagonals\u001b[0m\u001b[0;34m\u001b[0m\u001b[0;34m\u001b[0m\u001b[0;34m\u001b[0m\u001b[0m\n",
      "\u001b[0;32m~/Envs/ds_py3/lib/python3.7/site-packages/seaborn/axisgrid.py\u001b[0m in \u001b[0;36mmap_diag\u001b[0;34m(self, func, **kwargs)\u001b[0m\n\u001b[1;32m   1397\u001b[0m                     \u001b[0mcolor\u001b[0m \u001b[0;34m=\u001b[0m \u001b[0mfixed_color\u001b[0m\u001b[0;34m\u001b[0m\u001b[0;34m\u001b[0m\u001b[0m\n\u001b[1;32m   1398\u001b[0m \u001b[0;34m\u001b[0m\u001b[0m\n\u001b[0;32m-> 1399\u001b[0;31m                 \u001b[0mfunc\u001b[0m\u001b[0;34m(\u001b[0m\u001b[0mdata_k\u001b[0m\u001b[0;34m,\u001b[0m \u001b[0mlabel\u001b[0m\u001b[0;34m=\u001b[0m\u001b[0mlabel_k\u001b[0m\u001b[0;34m,\u001b[0m \u001b[0mcolor\u001b[0m\u001b[0;34m=\u001b[0m\u001b[0mcolor\u001b[0m\u001b[0;34m,\u001b[0m \u001b[0;34m**\u001b[0m\u001b[0mkwargs\u001b[0m\u001b[0;34m)\u001b[0m\u001b[0;34m\u001b[0m\u001b[0;34m\u001b[0m\u001b[0m\n\u001b[0m\u001b[1;32m   1400\u001b[0m \u001b[0;34m\u001b[0m\u001b[0m\n\u001b[1;32m   1401\u001b[0m             \u001b[0mself\u001b[0m\u001b[0;34m.\u001b[0m\u001b[0m_clean_axis\u001b[0m\u001b[0;34m(\u001b[0m\u001b[0max\u001b[0m\u001b[0;34m)\u001b[0m\u001b[0;34m\u001b[0m\u001b[0;34m\u001b[0m\u001b[0m\n",
      "\u001b[0;32m~/Envs/ds_py3/lib/python3.7/site-packages/seaborn/distributions.py\u001b[0m in \u001b[0;36mkdeplot\u001b[0;34m(data, data2, shade, vertical, kernel, bw, gridsize, cut, clip, legend, cumulative, shade_lowest, cbar, cbar_ax, cbar_kws, ax, **kwargs)\u001b[0m\n\u001b[1;32m    689\u001b[0m         ax = _univariate_kdeplot(data, shade, vertical, kernel, bw,\n\u001b[1;32m    690\u001b[0m                                  \u001b[0mgridsize\u001b[0m\u001b[0;34m,\u001b[0m \u001b[0mcut\u001b[0m\u001b[0;34m,\u001b[0m \u001b[0mclip\u001b[0m\u001b[0;34m,\u001b[0m \u001b[0mlegend\u001b[0m\u001b[0;34m,\u001b[0m \u001b[0max\u001b[0m\u001b[0;34m,\u001b[0m\u001b[0;34m\u001b[0m\u001b[0;34m\u001b[0m\u001b[0m\n\u001b[0;32m--> 691\u001b[0;31m                                  cumulative=cumulative, **kwargs)\n\u001b[0m\u001b[1;32m    692\u001b[0m \u001b[0;34m\u001b[0m\u001b[0m\n\u001b[1;32m    693\u001b[0m     \u001b[0;32mreturn\u001b[0m \u001b[0max\u001b[0m\u001b[0;34m\u001b[0m\u001b[0;34m\u001b[0m\u001b[0m\n",
      "\u001b[0;32m~/Envs/ds_py3/lib/python3.7/site-packages/seaborn/distributions.py\u001b[0m in \u001b[0;36m_univariate_kdeplot\u001b[0;34m(data, shade, vertical, kernel, bw, gridsize, cut, clip, legend, ax, cumulative, **kwargs)\u001b[0m\n\u001b[1;32m    292\u001b[0m                               \u001b[0;34m\"only implemented in statsmodels.\"\u001b[0m\u001b[0;34m\u001b[0m\u001b[0;34m\u001b[0m\u001b[0m\n\u001b[1;32m    293\u001b[0m                               \"Please install statsmodels.\")\n\u001b[0;32m--> 294\u001b[0;31m         \u001b[0mx\u001b[0m\u001b[0;34m,\u001b[0m \u001b[0my\u001b[0m \u001b[0;34m=\u001b[0m \u001b[0m_scipy_univariate_kde\u001b[0m\u001b[0;34m(\u001b[0m\u001b[0mdata\u001b[0m\u001b[0;34m,\u001b[0m \u001b[0mbw\u001b[0m\u001b[0;34m,\u001b[0m \u001b[0mgridsize\u001b[0m\u001b[0;34m,\u001b[0m \u001b[0mcut\u001b[0m\u001b[0;34m,\u001b[0m \u001b[0mclip\u001b[0m\u001b[0;34m)\u001b[0m\u001b[0;34m\u001b[0m\u001b[0;34m\u001b[0m\u001b[0m\n\u001b[0m\u001b[1;32m    295\u001b[0m \u001b[0;34m\u001b[0m\u001b[0m\n\u001b[1;32m    296\u001b[0m     \u001b[0;31m# Make sure the density is nonnegative\u001b[0m\u001b[0;34m\u001b[0m\u001b[0;34m\u001b[0m\u001b[0;34m\u001b[0m\u001b[0m\n",
      "\u001b[0;32m~/Envs/ds_py3/lib/python3.7/site-packages/seaborn/distributions.py\u001b[0m in \u001b[0;36m_scipy_univariate_kde\u001b[0;34m(data, bw, gridsize, cut, clip)\u001b[0m\n\u001b[1;32m    364\u001b[0m     \u001b[0;34m\"\"\"Compute a univariate kernel density estimate using scipy.\"\"\"\u001b[0m\u001b[0;34m\u001b[0m\u001b[0;34m\u001b[0m\u001b[0m\n\u001b[1;32m    365\u001b[0m     \u001b[0;32mtry\u001b[0m\u001b[0;34m:\u001b[0m\u001b[0;34m\u001b[0m\u001b[0;34m\u001b[0m\u001b[0m\n\u001b[0;32m--> 366\u001b[0;31m         \u001b[0mkde\u001b[0m \u001b[0;34m=\u001b[0m \u001b[0mstats\u001b[0m\u001b[0;34m.\u001b[0m\u001b[0mgaussian_kde\u001b[0m\u001b[0;34m(\u001b[0m\u001b[0mdata\u001b[0m\u001b[0;34m,\u001b[0m \u001b[0mbw_method\u001b[0m\u001b[0;34m=\u001b[0m\u001b[0mbw\u001b[0m\u001b[0;34m)\u001b[0m\u001b[0;34m\u001b[0m\u001b[0;34m\u001b[0m\u001b[0m\n\u001b[0m\u001b[1;32m    367\u001b[0m     \u001b[0;32mexcept\u001b[0m \u001b[0mTypeError\u001b[0m\u001b[0;34m:\u001b[0m\u001b[0;34m\u001b[0m\u001b[0;34m\u001b[0m\u001b[0m\n\u001b[1;32m    368\u001b[0m         \u001b[0mkde\u001b[0m \u001b[0;34m=\u001b[0m \u001b[0mstats\u001b[0m\u001b[0;34m.\u001b[0m\u001b[0mgaussian_kde\u001b[0m\u001b[0;34m(\u001b[0m\u001b[0mdata\u001b[0m\u001b[0;34m)\u001b[0m\u001b[0;34m\u001b[0m\u001b[0;34m\u001b[0m\u001b[0m\n",
      "\u001b[0;32m~/Envs/ds_py3/lib/python3.7/site-packages/scipy/stats/kde.py\u001b[0m in \u001b[0;36m__init__\u001b[0;34m(self, dataset, bw_method, weights)\u001b[0m\n\u001b[1;32m    206\u001b[0m             \u001b[0mself\u001b[0m\u001b[0;34m.\u001b[0m\u001b[0m_neff\u001b[0m \u001b[0;34m=\u001b[0m \u001b[0;36m1\u001b[0m\u001b[0;34m/\u001b[0m\u001b[0msum\u001b[0m\u001b[0;34m(\u001b[0m\u001b[0mself\u001b[0m\u001b[0;34m.\u001b[0m\u001b[0m_weights\u001b[0m\u001b[0;34m**\u001b[0m\u001b[0;36m2\u001b[0m\u001b[0;34m)\u001b[0m\u001b[0;34m\u001b[0m\u001b[0;34m\u001b[0m\u001b[0m\n\u001b[1;32m    207\u001b[0m \u001b[0;34m\u001b[0m\u001b[0m\n\u001b[0;32m--> 208\u001b[0;31m         \u001b[0mself\u001b[0m\u001b[0;34m.\u001b[0m\u001b[0mset_bandwidth\u001b[0m\u001b[0;34m(\u001b[0m\u001b[0mbw_method\u001b[0m\u001b[0;34m=\u001b[0m\u001b[0mbw_method\u001b[0m\u001b[0;34m)\u001b[0m\u001b[0;34m\u001b[0m\u001b[0;34m\u001b[0m\u001b[0m\n\u001b[0m\u001b[1;32m    209\u001b[0m \u001b[0;34m\u001b[0m\u001b[0m\n\u001b[1;32m    210\u001b[0m     \u001b[0;32mdef\u001b[0m \u001b[0mevaluate\u001b[0m\u001b[0;34m(\u001b[0m\u001b[0mself\u001b[0m\u001b[0;34m,\u001b[0m \u001b[0mpoints\u001b[0m\u001b[0;34m)\u001b[0m\u001b[0;34m:\u001b[0m\u001b[0;34m\u001b[0m\u001b[0;34m\u001b[0m\u001b[0m\n",
      "\u001b[0;32m~/Envs/ds_py3/lib/python3.7/site-packages/scipy/stats/kde.py\u001b[0m in \u001b[0;36mset_bandwidth\u001b[0;34m(self, bw_method)\u001b[0m\n\u001b[1;32m    538\u001b[0m             \u001b[0;32mraise\u001b[0m \u001b[0mValueError\u001b[0m\u001b[0;34m(\u001b[0m\u001b[0mmsg\u001b[0m\u001b[0;34m)\u001b[0m\u001b[0;34m\u001b[0m\u001b[0;34m\u001b[0m\u001b[0m\n\u001b[1;32m    539\u001b[0m \u001b[0;34m\u001b[0m\u001b[0m\n\u001b[0;32m--> 540\u001b[0;31m         \u001b[0mself\u001b[0m\u001b[0;34m.\u001b[0m\u001b[0m_compute_covariance\u001b[0m\u001b[0;34m(\u001b[0m\u001b[0;34m)\u001b[0m\u001b[0;34m\u001b[0m\u001b[0;34m\u001b[0m\u001b[0m\n\u001b[0m\u001b[1;32m    541\u001b[0m \u001b[0;34m\u001b[0m\u001b[0m\n\u001b[1;32m    542\u001b[0m     \u001b[0;32mdef\u001b[0m \u001b[0m_compute_covariance\u001b[0m\u001b[0;34m(\u001b[0m\u001b[0mself\u001b[0m\u001b[0;34m)\u001b[0m\u001b[0;34m:\u001b[0m\u001b[0;34m\u001b[0m\u001b[0;34m\u001b[0m\u001b[0m\n",
      "\u001b[0;32m~/Envs/ds_py3/lib/python3.7/site-packages/scipy/stats/kde.py\u001b[0m in \u001b[0;36m_compute_covariance\u001b[0;34m(self)\u001b[0m\n\u001b[1;32m    550\u001b[0m                                                \u001b[0mbias\u001b[0m\u001b[0;34m=\u001b[0m\u001b[0;32mFalse\u001b[0m\u001b[0;34m,\u001b[0m\u001b[0;34m\u001b[0m\u001b[0;34m\u001b[0m\u001b[0m\n\u001b[1;32m    551\u001b[0m                                                aweights=self.weights))\n\u001b[0;32m--> 552\u001b[0;31m             \u001b[0mself\u001b[0m\u001b[0;34m.\u001b[0m\u001b[0m_data_inv_cov\u001b[0m \u001b[0;34m=\u001b[0m \u001b[0mlinalg\u001b[0m\u001b[0;34m.\u001b[0m\u001b[0minv\u001b[0m\u001b[0;34m(\u001b[0m\u001b[0mself\u001b[0m\u001b[0;34m.\u001b[0m\u001b[0m_data_covariance\u001b[0m\u001b[0;34m)\u001b[0m\u001b[0;34m\u001b[0m\u001b[0;34m\u001b[0m\u001b[0m\n\u001b[0m\u001b[1;32m    553\u001b[0m \u001b[0;34m\u001b[0m\u001b[0m\n\u001b[1;32m    554\u001b[0m         \u001b[0mself\u001b[0m\u001b[0;34m.\u001b[0m\u001b[0mcovariance\u001b[0m \u001b[0;34m=\u001b[0m \u001b[0mself\u001b[0m\u001b[0;34m.\u001b[0m\u001b[0m_data_covariance\u001b[0m \u001b[0;34m*\u001b[0m \u001b[0mself\u001b[0m\u001b[0;34m.\u001b[0m\u001b[0mfactor\u001b[0m\u001b[0;34m**\u001b[0m\u001b[0;36m2\u001b[0m\u001b[0;34m\u001b[0m\u001b[0;34m\u001b[0m\u001b[0m\n",
      "\u001b[0;32m~/Envs/ds_py3/lib/python3.7/site-packages/scipy/linalg/basic.py\u001b[0m in \u001b[0;36minv\u001b[0;34m(a, overwrite_a, check_finite)\u001b[0m\n\u001b[1;32m    972\u001b[0m         \u001b[0minv_a\u001b[0m\u001b[0;34m,\u001b[0m \u001b[0minfo\u001b[0m \u001b[0;34m=\u001b[0m \u001b[0mgetri\u001b[0m\u001b[0;34m(\u001b[0m\u001b[0mlu\u001b[0m\u001b[0;34m,\u001b[0m \u001b[0mpiv\u001b[0m\u001b[0;34m,\u001b[0m \u001b[0mlwork\u001b[0m\u001b[0;34m=\u001b[0m\u001b[0mlwork\u001b[0m\u001b[0;34m,\u001b[0m \u001b[0moverwrite_lu\u001b[0m\u001b[0;34m=\u001b[0m\u001b[0;36m1\u001b[0m\u001b[0;34m)\u001b[0m\u001b[0;34m\u001b[0m\u001b[0;34m\u001b[0m\u001b[0m\n\u001b[1;32m    973\u001b[0m     \u001b[0;32mif\u001b[0m \u001b[0minfo\u001b[0m \u001b[0;34m>\u001b[0m \u001b[0;36m0\u001b[0m\u001b[0;34m:\u001b[0m\u001b[0;34m\u001b[0m\u001b[0;34m\u001b[0m\u001b[0m\n\u001b[0;32m--> 974\u001b[0;31m         \u001b[0;32mraise\u001b[0m \u001b[0mLinAlgError\u001b[0m\u001b[0;34m(\u001b[0m\u001b[0;34m\"singular matrix\"\u001b[0m\u001b[0;34m)\u001b[0m\u001b[0;34m\u001b[0m\u001b[0;34m\u001b[0m\u001b[0m\n\u001b[0m\u001b[1;32m    975\u001b[0m     \u001b[0;32mif\u001b[0m \u001b[0minfo\u001b[0m \u001b[0;34m<\u001b[0m \u001b[0;36m0\u001b[0m\u001b[0;34m:\u001b[0m\u001b[0;34m\u001b[0m\u001b[0;34m\u001b[0m\u001b[0m\n\u001b[1;32m    976\u001b[0m         raise ValueError('illegal value in %d-th argument of internal '\n",
      "\u001b[0;31mLinAlgError\u001b[0m: singular matrix"
     ]
    },
    {
     "data": {
      "image/png": "[encoded data removed]",
      "text/plain": [
       "<Figure size 540x540 with 12 Axes>"
      ]
     },
     "metadata": {
      "needs_background": "light"
     },
     "output_type": "display_data"
    }
   ],
   "source": [
    "import seaborn as sns\n",
    "sns.pairplot(df[[\"variace\", \"skewness\", \"class\"]], hue=\"class\")"
   ]
  },
  {
   "cell_type": "code",
   "execution_count": null,
   "metadata": {},
   "outputs": [],
   "source": []
  },
  {
   "cell_type": "markdown",
   "metadata": {},
   "source": [
    "#### Baseline model"
   ]
  },
  {
   "cell_type": "code",
   "execution_count": 30,
   "metadata": {},
   "outputs": [],
   "source": [
    "from sklearn.model_selection import train_test_split, cross_val_score\n",
    "from sklearn.ensemble import RandomForestClassifier\n",
    "from sklearn.preprocessing import scale"
   ]
  },
  {
   "cell_type": "code",
   "execution_count": 31,
   "metadata": {},
   "outputs": [],
   "source": [
    "X = scale(df.drop('class', axis=1).values)\n",
    "y = df['class'].values"
   ]
  },
  {
   "cell_type": "code",
   "execution_count": 32,
   "metadata": {},
   "outputs": [
    {
     "name": "stderr",
     "output_type": "stream",
     "text": [
      "/Users/zzhang/Envs/ds_py3/lib/python3.7/site-packages/sklearn/model_selection/_split.py:1978: FutureWarning: The default value of cv will change from 3 to 5 in version 0.22. Specify it explicitly to silence this warning.\n",
      "  warnings.warn(CV_WARNING, FutureWarning)\n",
      "/Users/zzhang/Envs/ds_py3/lib/python3.7/site-packages/sklearn/ensemble/forest.py:245: FutureWarning: The default value of n_estimators will change from 10 in version 0.20 to 100 in 0.22.\n",
      "  \"10 in version 0.20 to 100 in 0.22.\", FutureWarning)\n",
      "/Users/zzhang/Envs/ds_py3/lib/python3.7/site-packages/sklearn/ensemble/forest.py:245: FutureWarning: The default value of n_estimators will change from 10 in version 0.20 to 100 in 0.22.\n",
      "  \"10 in version 0.20 to 100 in 0.22.\", FutureWarning)\n",
      "/Users/zzhang/Envs/ds_py3/lib/python3.7/site-packages/sklearn/ensemble/forest.py:245: FutureWarning: The default value of n_estimators will change from 10 in version 0.20 to 100 in 0.22.\n",
      "  \"10 in version 0.20 to 100 in 0.22.\", FutureWarning)\n"
     ]
    },
    {
     "data": {
      "text/plain": [
       "array([0.98908297, 0.99124726, 0.99343545])"
      ]
     },
     "execution_count": 32,
     "metadata": {},
     "output_type": "execute_result"
    }
   ],
   "source": [
    "model = RandomForestClassifier()\n",
    "cross_val_score(model, X, y)"
   ]
  },
  {
   "cell_type": "markdown",
   "metadata": {},
   "source": [
    "### Logistic Regression Model"
   ]
  },
  {
   "cell_type": "code",
   "execution_count": 33,
   "metadata": {},
   "outputs": [],
   "source": [
    "X_train, X_test, y_train, y_test = train_test_split(X, y,\n",
    "                                                    test_size=0.3,\n",
    "                                                    random_state=42)"
   ]
  },
  {
   "cell_type": "code",
   "execution_count": 34,
   "metadata": {},
   "outputs": [],
   "source": [
    "import tensorflow.keras.backend as K\n",
    "from tensorflow.keras.models import Sequential\n",
    "from tensorflow.keras.layers import Dense, Activation\n",
    "from tensorflow.keras.optimizers import SGD"
   ]
  },
  {
   "cell_type": "code",
   "execution_count": 40,
   "metadata": {},
   "outputs": [
    {
     "name": "stdout",
     "output_type": "stream",
     "text": [
      "Train on 960 samples\n",
      "Epoch 1/10\n",
      "960/960 [==============================] - 0s 312us/sample - loss: 1.1007 - accuracy: 0.4646\n",
      "Epoch 2/10\n",
      "960/960 [==============================] - 0s 26us/sample - loss: 0.9514 - accuracy: 0.5000\n",
      "Epoch 3/10\n",
      "960/960 [==============================] - 0s 31us/sample - loss: 0.8244 - accuracy: 0.5333\n",
      "Epoch 4/10\n",
      "960/960 [==============================] - 0s 27us/sample - loss: 0.7201 - accuracy: 0.5792\n",
      "Epoch 5/10\n",
      "960/960 [==============================] - 0s 31us/sample - loss: 0.6368 - accuracy: 0.6573\n",
      "Epoch 6/10\n",
      "960/960 [==============================] - 0s 28us/sample - loss: 0.5716 - accuracy: 0.7302\n",
      "Epoch 7/10\n",
      "960/960 [==============================] - 0s 29us/sample - loss: 0.5209 - accuracy: 0.7896\n",
      "Epoch 8/10\n",
      "960/960 [==============================] - 0s 30us/sample - loss: 0.4816 - accuracy: 0.8469\n",
      "Epoch 9/10\n",
      "960/960 [==============================] - 0s 30us/sample - loss: 0.4508 - accuracy: 0.8823\n",
      "Epoch 10/10\n",
      "960/960 [==============================] - 0s 28us/sample - loss: 0.4262 - accuracy: 0.9094\n"
     ]
    }
   ],
   "source": [
    "K.clear_session()\n",
    "\n",
    "model = Sequential()\n",
    "model.add(Dense(1, input_shape=(4,), activation='sigmoid'))\n",
    "\n",
    "model.compile(loss='binary_crossentropy',\n",
    "              optimizer='sgd',\n",
    "              metrics=['accuracy'])\n",
    "\n",
    "history = model.fit(X_train, y_train, epochs=10,)\n",
    "result = model.evaluate(X_test, y_test,  verbose=0)"
   ]
  },
  {
   "cell_type": "code",
   "execution_count": 41,
   "metadata": {},
   "outputs": [],
   "source": [
    "historydf = pd.DataFrame(history.history, index=history.epoch)"
   ]
  },
  {
   "cell_type": "code",
   "execution_count": 42,
   "metadata": {},
   "outputs": [
    {
     "data": {
      "text/html": [
       "<div>\n",
       "<style scoped>\n",
       "    .dataframe tbody tr th:only-of-type {\n",
       "        vertical-align: middle;\n",
       "    }\n",
       "\n",
       "    .dataframe tbody tr th {\n",
       "        vertical-align: top;\n",
       "    }\n",
       "\n",
       "    .dataframe thead th {\n",
       "        text-align: right;\n",
       "    }\n",
       "</style>\n",
       "<table border=\"1\" class=\"dataframe\">\n",
       "  <thead>\n",
       "    <tr style=\"text-align: right;\">\n",
       "      <th></th>\n",
       "      <th>loss</th>\n",
       "      <th>accuracy</th>\n",
       "    </tr>\n",
       "  </thead>\n",
       "  <tbody>\n",
       "    <tr>\n",
       "      <th>0</th>\n",
       "      <td>1.100704</td>\n",
       "      <td>0.464583</td>\n",
       "    </tr>\n",
       "    <tr>\n",
       "      <th>1</th>\n",
       "      <td>0.951415</td>\n",
       "      <td>0.500000</td>\n",
       "    </tr>\n",
       "    <tr>\n",
       "      <th>2</th>\n",
       "      <td>0.824446</td>\n",
       "      <td>0.533333</td>\n",
       "    </tr>\n",
       "    <tr>\n",
       "      <th>3</th>\n",
       "      <td>0.720103</td>\n",
       "      <td>0.579167</td>\n",
       "    </tr>\n",
       "    <tr>\n",
       "      <th>4</th>\n",
       "      <td>0.636815</td>\n",
       "      <td>0.657292</td>\n",
       "    </tr>\n",
       "    <tr>\n",
       "      <th>5</th>\n",
       "      <td>0.571593</td>\n",
       "      <td>0.730208</td>\n",
       "    </tr>\n",
       "    <tr>\n",
       "      <th>6</th>\n",
       "      <td>0.520900</td>\n",
       "      <td>0.789583</td>\n",
       "    </tr>\n",
       "    <tr>\n",
       "      <th>7</th>\n",
       "      <td>0.481580</td>\n",
       "      <td>0.846875</td>\n",
       "    </tr>\n",
       "    <tr>\n",
       "      <th>8</th>\n",
       "      <td>0.450781</td>\n",
       "      <td>0.882292</td>\n",
       "    </tr>\n",
       "    <tr>\n",
       "      <th>9</th>\n",
       "      <td>0.426200</td>\n",
       "      <td>0.909375</td>\n",
       "    </tr>\n",
       "  </tbody>\n",
       "</table>\n",
       "</div>"
      ],
      "text/plain": [
       "       loss  accuracy\n",
       "0  1.100704  0.464583\n",
       "1  0.951415  0.500000\n",
       "2  0.824446  0.533333\n",
       "3  0.720103  0.579167\n",
       "4  0.636815  0.657292\n",
       "5  0.571593  0.730208\n",
       "6  0.520900  0.789583\n",
       "7  0.481580  0.846875\n",
       "8  0.450781  0.882292\n",
       "9  0.426200  0.909375"
      ]
     },
     "execution_count": 42,
     "metadata": {},
     "output_type": "execute_result"
    }
   ],
   "source": [
    "historydf"
   ]
  },
  {
   "cell_type": "code",
   "execution_count": 43,
   "metadata": {},
   "outputs": [
    {
     "data": {
      "text/plain": [
       "Text(0.5, 1.0, 'Test accuracy: 93.4 %')"
      ]
     },
     "execution_count": 43,
     "metadata": {},
     "output_type": "execute_result"
    },
    {
     "data": {
      "image/png": "[encoded data removed]",
      "text/plain": [
       "<Figure size 432x288 with 1 Axes>"
      ]
     },
     "metadata": {
      "needs_background": "light"
     },
     "output_type": "display_data"
    }
   ],
   "source": [
    "historydf.plot(ylim=(0,1))\n",
    "plt.title(\"Test accuracy: {:3.1f} %\".format(result[1]*100), fontsize=15)"
   ]
  },
  {
   "cell_type": "markdown",
   "metadata": {},
   "source": [
    "### Learning Rates"
   ]
  },
  {
   "cell_type": "code",
   "execution_count": 56,
   "metadata": {},
   "outputs": [],
   "source": [
    "dflist = []\n",
    "\n",
    "learning_rates = [0.01, 0.05, 0.1, 0.5]\n",
    "\n",
    "for lr in learning_rates:\n",
    "\n",
    "    K.clear_session()\n",
    "\n",
    "    model = Sequential()\n",
    "    model.add(Dense(1, input_shape=(4,), activation='sigmoid'))\n",
    "    model.compile(loss='binary_crossentropy',\n",
    "                  optimizer=SGD(lr=lr),\n",
    "                  metrics=['accuracy'])\n",
    "    h = model.fit(X_train, y_train, batch_size=16, epochs=16, verbose=0)\n",
    "    \n",
    "    dflist.append(pd.DataFrame(h.history, index=h.epoch))"
   ]
  },
  {
   "cell_type": "code",
   "execution_count": 57,
   "metadata": {},
   "outputs": [],
   "source": [
    "historydf = pd.concat(dflist, axis=1)"
   ]
  },
  {
   "cell_type": "code",
   "execution_count": 58,
   "metadata": {},
   "outputs": [
    {
     "data": {
      "text/html": [
       "<div>\n",
       "<style scoped>\n",
       "    .dataframe tbody tr th:only-of-type {\n",
       "        vertical-align: middle;\n",
       "    }\n",
       "\n",
       "    .dataframe tbody tr th {\n",
       "        vertical-align: top;\n",
       "    }\n",
       "\n",
       "    .dataframe thead th {\n",
       "        text-align: right;\n",
       "    }\n",
       "</style>\n",
       "<table border=\"1\" class=\"dataframe\">\n",
       "  <thead>\n",
       "    <tr style=\"text-align: right;\">\n",
       "      <th></th>\n",
       "      <th>loss</th>\n",
       "      <th>accuracy</th>\n",
       "      <th>loss</th>\n",
       "      <th>accuracy</th>\n",
       "      <th>loss</th>\n",
       "      <th>accuracy</th>\n",
       "      <th>loss</th>\n",
       "      <th>accuracy</th>\n",
       "    </tr>\n",
       "  </thead>\n",
       "  <tbody>\n",
       "    <tr>\n",
       "      <th>0</th>\n",
       "      <td>0.625369</td>\n",
       "      <td>0.620833</td>\n",
       "      <td>0.954245</td>\n",
       "      <td>0.401042</td>\n",
       "      <td>0.464112</td>\n",
       "      <td>0.878125</td>\n",
       "      <td>0.244808</td>\n",
       "      <td>0.939583</td>\n",
       "    </tr>\n",
       "    <tr>\n",
       "      <th>1</th>\n",
       "      <td>0.537385</td>\n",
       "      <td>0.679167</td>\n",
       "      <td>0.545854</td>\n",
       "      <td>0.700000</td>\n",
       "      <td>0.264956</td>\n",
       "      <td>0.948958</td>\n",
       "      <td>0.118660</td>\n",
       "      <td>0.968750</td>\n",
       "    </tr>\n",
       "    <tr>\n",
       "      <th>2</th>\n",
       "      <td>0.470716</td>\n",
       "      <td>0.767708</td>\n",
       "      <td>0.422749</td>\n",
       "      <td>0.797917</td>\n",
       "      <td>0.210062</td>\n",
       "      <td>0.955208</td>\n",
       "      <td>0.091625</td>\n",
       "      <td>0.977083</td>\n",
       "    </tr>\n",
       "    <tr>\n",
       "      <th>3</th>\n",
       "      <td>0.420469</td>\n",
       "      <td>0.839583</td>\n",
       "      <td>0.351469</td>\n",
       "      <td>0.848958</td>\n",
       "      <td>0.178222</td>\n",
       "      <td>0.962500</td>\n",
       "      <td>0.078154</td>\n",
       "      <td>0.977083</td>\n",
       "    </tr>\n",
       "    <tr>\n",
       "      <th>4</th>\n",
       "      <td>0.382594</td>\n",
       "      <td>0.891667</td>\n",
       "      <td>0.302047</td>\n",
       "      <td>0.889583</td>\n",
       "      <td>0.156868</td>\n",
       "      <td>0.965625</td>\n",
       "      <td>0.070028</td>\n",
       "      <td>0.978125</td>\n",
       "    </tr>\n",
       "    <tr>\n",
       "      <th>5</th>\n",
       "      <td>0.353636</td>\n",
       "      <td>0.919792</td>\n",
       "      <td>0.265569</td>\n",
       "      <td>0.923958</td>\n",
       "      <td>0.141265</td>\n",
       "      <td>0.968750</td>\n",
       "      <td>0.064173</td>\n",
       "      <td>0.980208</td>\n",
       "    </tr>\n",
       "    <tr>\n",
       "      <th>6</th>\n",
       "      <td>0.331039</td>\n",
       "      <td>0.930208</td>\n",
       "      <td>0.237588</td>\n",
       "      <td>0.934375</td>\n",
       "      <td>0.129224</td>\n",
       "      <td>0.968750</td>\n",
       "      <td>0.060269</td>\n",
       "      <td>0.981250</td>\n",
       "    </tr>\n",
       "    <tr>\n",
       "      <th>7</th>\n",
       "      <td>0.312942</td>\n",
       "      <td>0.931250</td>\n",
       "      <td>0.215461</td>\n",
       "      <td>0.950000</td>\n",
       "      <td>0.119974</td>\n",
       "      <td>0.969792</td>\n",
       "      <td>0.057035</td>\n",
       "      <td>0.981250</td>\n",
       "    </tr>\n",
       "    <tr>\n",
       "      <th>8</th>\n",
       "      <td>0.298113</td>\n",
       "      <td>0.931250</td>\n",
       "      <td>0.197631</td>\n",
       "      <td>0.953125</td>\n",
       "      <td>0.112354</td>\n",
       "      <td>0.969792</td>\n",
       "      <td>0.054420</td>\n",
       "      <td>0.981250</td>\n",
       "    </tr>\n",
       "    <tr>\n",
       "      <th>9</th>\n",
       "      <td>0.285622</td>\n",
       "      <td>0.932292</td>\n",
       "      <td>0.183040</td>\n",
       "      <td>0.959375</td>\n",
       "      <td>0.106005</td>\n",
       "      <td>0.971875</td>\n",
       "      <td>0.052211</td>\n",
       "      <td>0.981250</td>\n",
       "    </tr>\n",
       "    <tr>\n",
       "      <th>10</th>\n",
       "      <td>0.274925</td>\n",
       "      <td>0.933333</td>\n",
       "      <td>0.170890</td>\n",
       "      <td>0.961458</td>\n",
       "      <td>0.100793</td>\n",
       "      <td>0.973958</td>\n",
       "      <td>0.050360</td>\n",
       "      <td>0.981250</td>\n",
       "    </tr>\n",
       "    <tr>\n",
       "      <th>11</th>\n",
       "      <td>0.265627</td>\n",
       "      <td>0.936458</td>\n",
       "      <td>0.160614</td>\n",
       "      <td>0.961458</td>\n",
       "      <td>0.096206</td>\n",
       "      <td>0.973958</td>\n",
       "      <td>0.048772</td>\n",
       "      <td>0.981250</td>\n",
       "    </tr>\n",
       "    <tr>\n",
       "      <th>12</th>\n",
       "      <td>0.257395</td>\n",
       "      <td>0.941667</td>\n",
       "      <td>0.151825</td>\n",
       "      <td>0.964583</td>\n",
       "      <td>0.092310</td>\n",
       "      <td>0.973958</td>\n",
       "      <td>0.047496</td>\n",
       "      <td>0.981250</td>\n",
       "    </tr>\n",
       "    <tr>\n",
       "      <th>13</th>\n",
       "      <td>0.250014</td>\n",
       "      <td>0.939583</td>\n",
       "      <td>0.144219</td>\n",
       "      <td>0.965625</td>\n",
       "      <td>0.088867</td>\n",
       "      <td>0.975000</td>\n",
       "      <td>0.046083</td>\n",
       "      <td>0.981250</td>\n",
       "    </tr>\n",
       "    <tr>\n",
       "      <th>14</th>\n",
       "      <td>0.243351</td>\n",
       "      <td>0.940625</td>\n",
       "      <td>0.137578</td>\n",
       "      <td>0.968750</td>\n",
       "      <td>0.085827</td>\n",
       "      <td>0.977083</td>\n",
       "      <td>0.045174</td>\n",
       "      <td>0.983333</td>\n",
       "    </tr>\n",
       "    <tr>\n",
       "      <th>15</th>\n",
       "      <td>0.237268</td>\n",
       "      <td>0.941667</td>\n",
       "      <td>0.131743</td>\n",
       "      <td>0.968750</td>\n",
       "      <td>0.083196</td>\n",
       "      <td>0.976042</td>\n",
       "      <td>0.044153</td>\n",
       "      <td>0.982292</td>\n",
       "    </tr>\n",
       "  </tbody>\n",
       "</table>\n",
       "</div>"
      ],
      "text/plain": [
       "        loss  accuracy      loss  accuracy      loss  accuracy      loss  \\\n",
       "0   0.625369  0.620833  0.954245  0.401042  0.464112  0.878125  0.244808   \n",
       "1   0.537385  0.679167  0.545854  0.700000  0.264956  0.948958  0.118660   \n",
       "2   0.470716  0.767708  0.422749  0.797917  0.210062  0.955208  0.091625   \n",
       "3   0.420469  0.839583  0.351469  0.848958  0.178222  0.962500  0.078154   \n",
       "4   0.382594  0.891667  0.302047  0.889583  0.156868  0.965625  0.070028   \n",
       "5   0.353636  0.919792  0.265569  0.923958  0.141265  0.968750  0.064173   \n",
       "6   0.331039  0.930208  0.237588  0.934375  0.129224  0.968750  0.060269   \n",
       "7   0.312942  0.931250  0.215461  0.950000  0.119974  0.969792  0.057035   \n",
       "8   0.298113  0.931250  0.197631  0.953125  0.112354  0.969792  0.054420   \n",
       "9   0.285622  0.932292  0.183040  0.959375  0.106005  0.971875  0.052211   \n",
       "10  0.274925  0.933333  0.170890  0.961458  0.100793  0.973958  0.050360   \n",
       "11  0.265627  0.936458  0.160614  0.961458  0.096206  0.973958  0.048772   \n",
       "12  0.257395  0.941667  0.151825  0.964583  0.092310  0.973958  0.047496   \n",
       "13  0.250014  0.939583  0.144219  0.965625  0.088867  0.975000  0.046083   \n",
       "14  0.243351  0.940625  0.137578  0.968750  0.085827  0.977083  0.045174   \n",
       "15  0.237268  0.941667  0.131743  0.968750  0.083196  0.976042  0.044153   \n",
       "\n",
       "    accuracy  \n",
       "0   0.939583  \n",
       "1   0.968750  \n",
       "2   0.977083  \n",
       "3   0.977083  \n",
       "4   0.978125  \n",
       "5   0.980208  \n",
       "6   0.981250  \n",
       "7   0.981250  \n",
       "8   0.981250  \n",
       "9   0.981250  \n",
       "10  0.981250  \n",
       "11  0.981250  \n",
       "12  0.981250  \n",
       "13  0.981250  \n",
       "14  0.983333  \n",
       "15  0.982292  "
      ]
     },
     "execution_count": 58,
     "metadata": {},
     "output_type": "execute_result"
    }
   ],
   "source": [
    "historydf"
   ]
  },
  {
   "cell_type": "code",
   "execution_count": 61,
   "metadata": {},
   "outputs": [],
   "source": [
    "metrics_reported = dflist[0].columns\n",
    "idx = pd.MultiIndex.from_product([learning_rates, metrics_reported],\n",
    "                                 names=['learning_rate', 'metric'])\n",
    "\n",
    "historydf.columns = idx"
   ]
  },
  {
   "cell_type": "code",
   "execution_count": 62,
   "metadata": {},
   "outputs": [
    {
     "data": {
      "text/html": [
       "<div>\n",
       "<style scoped>\n",
       "    .dataframe tbody tr th:only-of-type {\n",
       "        vertical-align: middle;\n",
       "    }\n",
       "\n",
       "    .dataframe tbody tr th {\n",
       "        vertical-align: top;\n",
       "    }\n",
       "\n",
       "    .dataframe thead tr th {\n",
       "        text-align: left;\n",
       "    }\n",
       "</style>\n",
       "<table border=\"1\" class=\"dataframe\">\n",
       "  <thead>\n",
       "    <tr>\n",
       "      <th>learning_rate</th>\n",
       "      <th colspan=\"2\" halign=\"left\">0.01</th>\n",
       "      <th colspan=\"2\" halign=\"left\">0.05</th>\n",
       "      <th colspan=\"2\" halign=\"left\">0.10</th>\n",
       "      <th colspan=\"2\" halign=\"left\">0.50</th>\n",
       "    </tr>\n",
       "    <tr>\n",
       "      <th>metric</th>\n",
       "      <th>loss</th>\n",
       "      <th>accuracy</th>\n",
       "      <th>loss</th>\n",
       "      <th>accuracy</th>\n",
       "      <th>loss</th>\n",
       "      <th>accuracy</th>\n",
       "      <th>loss</th>\n",
       "      <th>accuracy</th>\n",
       "    </tr>\n",
       "  </thead>\n",
       "  <tbody>\n",
       "    <tr>\n",
       "      <th>0</th>\n",
       "      <td>0.625369</td>\n",
       "      <td>0.620833</td>\n",
       "      <td>0.954245</td>\n",
       "      <td>0.401042</td>\n",
       "      <td>0.464112</td>\n",
       "      <td>0.878125</td>\n",
       "      <td>0.244808</td>\n",
       "      <td>0.939583</td>\n",
       "    </tr>\n",
       "    <tr>\n",
       "      <th>1</th>\n",
       "      <td>0.537385</td>\n",
       "      <td>0.679167</td>\n",
       "      <td>0.545854</td>\n",
       "      <td>0.700000</td>\n",
       "      <td>0.264956</td>\n",
       "      <td>0.948958</td>\n",
       "      <td>0.118660</td>\n",
       "      <td>0.968750</td>\n",
       "    </tr>\n",
       "    <tr>\n",
       "      <th>2</th>\n",
       "      <td>0.470716</td>\n",
       "      <td>0.767708</td>\n",
       "      <td>0.422749</td>\n",
       "      <td>0.797917</td>\n",
       "      <td>0.210062</td>\n",
       "      <td>0.955208</td>\n",
       "      <td>0.091625</td>\n",
       "      <td>0.977083</td>\n",
       "    </tr>\n",
       "    <tr>\n",
       "      <th>3</th>\n",
       "      <td>0.420469</td>\n",
       "      <td>0.839583</td>\n",
       "      <td>0.351469</td>\n",
       "      <td>0.848958</td>\n",
       "      <td>0.178222</td>\n",
       "      <td>0.962500</td>\n",
       "      <td>0.078154</td>\n",
       "      <td>0.977083</td>\n",
       "    </tr>\n",
       "    <tr>\n",
       "      <th>4</th>\n",
       "      <td>0.382594</td>\n",
       "      <td>0.891667</td>\n",
       "      <td>0.302047</td>\n",
       "      <td>0.889583</td>\n",
       "      <td>0.156868</td>\n",
       "      <td>0.965625</td>\n",
       "      <td>0.070028</td>\n",
       "      <td>0.978125</td>\n",
       "    </tr>\n",
       "    <tr>\n",
       "      <th>5</th>\n",
       "      <td>0.353636</td>\n",
       "      <td>0.919792</td>\n",
       "      <td>0.265569</td>\n",
       "      <td>0.923958</td>\n",
       "      <td>0.141265</td>\n",
       "      <td>0.968750</td>\n",
       "      <td>0.064173</td>\n",
       "      <td>0.980208</td>\n",
       "    </tr>\n",
       "    <tr>\n",
       "      <th>6</th>\n",
       "      <td>0.331039</td>\n",
       "      <td>0.930208</td>\n",
       "      <td>0.237588</td>\n",
       "      <td>0.934375</td>\n",
       "      <td>0.129224</td>\n",
       "      <td>0.968750</td>\n",
       "      <td>0.060269</td>\n",
       "      <td>0.981250</td>\n",
       "    </tr>\n",
       "    <tr>\n",
       "      <th>7</th>\n",
       "      <td>0.312942</td>\n",
       "      <td>0.931250</td>\n",
       "      <td>0.215461</td>\n",
       "      <td>0.950000</td>\n",
       "      <td>0.119974</td>\n",
       "      <td>0.969792</td>\n",
       "      <td>0.057035</td>\n",
       "      <td>0.981250</td>\n",
       "    </tr>\n",
       "    <tr>\n",
       "      <th>8</th>\n",
       "      <td>0.298113</td>\n",
       "      <td>0.931250</td>\n",
       "      <td>0.197631</td>\n",
       "      <td>0.953125</td>\n",
       "      <td>0.112354</td>\n",
       "      <td>0.969792</td>\n",
       "      <td>0.054420</td>\n",
       "      <td>0.981250</td>\n",
       "    </tr>\n",
       "    <tr>\n",
       "      <th>9</th>\n",
       "      <td>0.285622</td>\n",
       "      <td>0.932292</td>\n",
       "      <td>0.183040</td>\n",
       "      <td>0.959375</td>\n",
       "      <td>0.106005</td>\n",
       "      <td>0.971875</td>\n",
       "      <td>0.052211</td>\n",
       "      <td>0.981250</td>\n",
       "    </tr>\n",
       "    <tr>\n",
       "      <th>10</th>\n",
       "      <td>0.274925</td>\n",
       "      <td>0.933333</td>\n",
       "      <td>0.170890</td>\n",
       "      <td>0.961458</td>\n",
       "      <td>0.100793</td>\n",
       "      <td>0.973958</td>\n",
       "      <td>0.050360</td>\n",
       "      <td>0.981250</td>\n",
       "    </tr>\n",
       "    <tr>\n",
       "      <th>11</th>\n",
       "      <td>0.265627</td>\n",
       "      <td>0.936458</td>\n",
       "      <td>0.160614</td>\n",
       "      <td>0.961458</td>\n",
       "      <td>0.096206</td>\n",
       "      <td>0.973958</td>\n",
       "      <td>0.048772</td>\n",
       "      <td>0.981250</td>\n",
       "    </tr>\n",
       "    <tr>\n",
       "      <th>12</th>\n",
       "      <td>0.257395</td>\n",
       "      <td>0.941667</td>\n",
       "      <td>0.151825</td>\n",
       "      <td>0.964583</td>\n",
       "      <td>0.092310</td>\n",
       "      <td>0.973958</td>\n",
       "      <td>0.047496</td>\n",
       "      <td>0.981250</td>\n",
       "    </tr>\n",
       "    <tr>\n",
       "      <th>13</th>\n",
       "      <td>0.250014</td>\n",
       "      <td>0.939583</td>\n",
       "      <td>0.144219</td>\n",
       "      <td>0.965625</td>\n",
       "      <td>0.088867</td>\n",
       "      <td>0.975000</td>\n",
       "      <td>0.046083</td>\n",
       "      <td>0.981250</td>\n",
       "    </tr>\n",
       "    <tr>\n",
       "      <th>14</th>\n",
       "      <td>0.243351</td>\n",
       "      <td>0.940625</td>\n",
       "      <td>0.137578</td>\n",
       "      <td>0.968750</td>\n",
       "      <td>0.085827</td>\n",
       "      <td>0.977083</td>\n",
       "      <td>0.045174</td>\n",
       "      <td>0.983333</td>\n",
       "    </tr>\n",
       "    <tr>\n",
       "      <th>15</th>\n",
       "      <td>0.237268</td>\n",
       "      <td>0.941667</td>\n",
       "      <td>0.131743</td>\n",
       "      <td>0.968750</td>\n",
       "      <td>0.083196</td>\n",
       "      <td>0.976042</td>\n",
       "      <td>0.044153</td>\n",
       "      <td>0.982292</td>\n",
       "    </tr>\n",
       "  </tbody>\n",
       "</table>\n",
       "</div>"
      ],
      "text/plain": [
       "learning_rate      0.01                0.05                0.10            \\\n",
       "metric             loss  accuracy      loss  accuracy      loss  accuracy   \n",
       "0              0.625369  0.620833  0.954245  0.401042  0.464112  0.878125   \n",
       "1              0.537385  0.679167  0.545854  0.700000  0.264956  0.948958   \n",
       "2              0.470716  0.767708  0.422749  0.797917  0.210062  0.955208   \n",
       "3              0.420469  0.839583  0.351469  0.848958  0.178222  0.962500   \n",
       "4              0.382594  0.891667  0.302047  0.889583  0.156868  0.965625   \n",
       "5              0.353636  0.919792  0.265569  0.923958  0.141265  0.968750   \n",
       "6              0.331039  0.930208  0.237588  0.934375  0.129224  0.968750   \n",
       "7              0.312942  0.931250  0.215461  0.950000  0.119974  0.969792   \n",
       "8              0.298113  0.931250  0.197631  0.953125  0.112354  0.969792   \n",
       "9              0.285622  0.932292  0.183040  0.959375  0.106005  0.971875   \n",
       "10             0.274925  0.933333  0.170890  0.961458  0.100793  0.973958   \n",
       "11             0.265627  0.936458  0.160614  0.961458  0.096206  0.973958   \n",
       "12             0.257395  0.941667  0.151825  0.964583  0.092310  0.973958   \n",
       "13             0.250014  0.939583  0.144219  0.965625  0.088867  0.975000   \n",
       "14             0.243351  0.940625  0.137578  0.968750  0.085827  0.977083   \n",
       "15             0.237268  0.941667  0.131743  0.968750  0.083196  0.976042   \n",
       "\n",
       "learning_rate      0.50            \n",
       "metric             loss  accuracy  \n",
       "0              0.244808  0.939583  \n",
       "1              0.118660  0.968750  \n",
       "2              0.091625  0.977083  \n",
       "3              0.078154  0.977083  \n",
       "4              0.070028  0.978125  \n",
       "5              0.064173  0.980208  \n",
       "6              0.060269  0.981250  \n",
       "7              0.057035  0.981250  \n",
       "8              0.054420  0.981250  \n",
       "9              0.052211  0.981250  \n",
       "10             0.050360  0.981250  \n",
       "11             0.048772  0.981250  \n",
       "12             0.047496  0.981250  \n",
       "13             0.046083  0.981250  \n",
       "14             0.045174  0.983333  \n",
       "15             0.044153  0.982292  "
      ]
     },
     "execution_count": 62,
     "metadata": {},
     "output_type": "execute_result"
    }
   ],
   "source": [
    "historydf"
   ]
  },
  {
   "cell_type": "code",
   "execution_count": 63,
   "metadata": {},
   "outputs": [
    {
     "data": {
      "image/png": "[encoded data removed]",
      "text/plain": [
       "<Figure size 432x288 with 2 Axes>"
      ]
     },
     "metadata": {
      "needs_background": "light"
     },
     "output_type": "display_data"
    }
   ],
   "source": [
    "ax = plt.subplot(211)\n",
    "historydf.xs('loss', axis=1, level='metric').plot(ylim=(0,1), ax=ax)\n",
    "plt.title(\"Loss\")\n",
    "\n",
    "ax = plt.subplot(212)\n",
    "historydf.xs('accuracy', axis=1, level='metric').plot(ylim=(0,1), ax=ax)\n",
    "plt.title(\"Accuracy\")\n",
    "plt.xlabel(\"Epochs\")\n",
    "\n",
    "plt.tight_layout()"
   ]
  },
  {
   "cell_type": "markdown",
   "metadata": {},
   "source": [
    "### Batch Sizes"
   ]
  },
  {
   "cell_type": "code",
   "execution_count": 69,
   "metadata": {},
   "outputs": [],
   "source": [
    "dflist = []\n",
    "\n",
    "batch_sizes = [16, 32, 64, 128]\n",
    "\n",
    "for batch_size in batch_sizes:\n",
    "    K.clear_session()\n",
    "\n",
    "    model = Sequential()\n",
    "    model.add(Dense(1, input_shape=(4,), activation='sigmoid'))\n",
    "    model.compile(loss='binary_crossentropy',\n",
    "                  optimizer='sgd',\n",
    "                  metrics=['accuracy'])\n",
    "    h = model.fit(X_train, y_train, batch_size=batch_size, epochs=20, verbose=0)\n",
    "    \n",
    "    dflist.append(pd.DataFrame(h.history, index=h.epoch))"
   ]
  },
  {
   "cell_type": "code",
   "execution_count": 70,
   "metadata": {},
   "outputs": [],
   "source": [
    "historydf = pd.concat(dflist, axis=1)\n",
    "metrics_reported = dflist[0].columns\n",
    "idx = pd.MultiIndex.from_product([batch_sizes, metrics_reported],\n",
    "                                 names=['batch_size', 'metric'])\n",
    "historydf.columns = idx"
   ]
  },
  {
   "cell_type": "code",
   "execution_count": 71,
   "metadata": {},
   "outputs": [
    {
     "data": {
      "text/html": [
       "<div>\n",
       "<style scoped>\n",
       "    .dataframe tbody tr th:only-of-type {\n",
       "        vertical-align: middle;\n",
       "    }\n",
       "\n",
       "    .dataframe tbody tr th {\n",
       "        vertical-align: top;\n",
       "    }\n",
       "\n",
       "    .dataframe thead tr th {\n",
       "        text-align: left;\n",
       "    }\n",
       "</style>\n",
       "<table border=\"1\" class=\"dataframe\">\n",
       "  <thead>\n",
       "    <tr>\n",
       "      <th>batch_size</th>\n",
       "      <th colspan=\"2\" halign=\"left\">16</th>\n",
       "      <th colspan=\"2\" halign=\"left\">32</th>\n",
       "      <th colspan=\"2\" halign=\"left\">64</th>\n",
       "      <th colspan=\"2\" halign=\"left\">128</th>\n",
       "    </tr>\n",
       "    <tr>\n",
       "      <th>metric</th>\n",
       "      <th>loss</th>\n",
       "      <th>accuracy</th>\n",
       "      <th>loss</th>\n",
       "      <th>accuracy</th>\n",
       "      <th>loss</th>\n",
       "      <th>accuracy</th>\n",
       "      <th>loss</th>\n",
       "      <th>accuracy</th>\n",
       "    </tr>\n",
       "  </thead>\n",
       "  <tbody>\n",
       "    <tr>\n",
       "      <th>0</th>\n",
       "      <td>0.487789</td>\n",
       "      <td>0.779167</td>\n",
       "      <td>0.680945</td>\n",
       "      <td>0.630208</td>\n",
       "      <td>0.619648</td>\n",
       "      <td>0.626042</td>\n",
       "      <td>1.407490</td>\n",
       "      <td>0.352083</td>\n",
       "    </tr>\n",
       "    <tr>\n",
       "      <th>1</th>\n",
       "      <td>0.459473</td>\n",
       "      <td>0.798958</td>\n",
       "      <td>0.639959</td>\n",
       "      <td>0.648958</td>\n",
       "      <td>0.611191</td>\n",
       "      <td>0.630208</td>\n",
       "      <td>1.357177</td>\n",
       "      <td>0.355208</td>\n",
       "    </tr>\n",
       "    <tr>\n",
       "      <th>2</th>\n",
       "      <td>0.435797</td>\n",
       "      <td>0.819792</td>\n",
       "      <td>0.603523</td>\n",
       "      <td>0.665625</td>\n",
       "      <td>0.602961</td>\n",
       "      <td>0.633333</td>\n",
       "      <td>1.307932</td>\n",
       "      <td>0.359375</td>\n",
       "    </tr>\n",
       "    <tr>\n",
       "      <th>3</th>\n",
       "      <td>0.415535</td>\n",
       "      <td>0.826042</td>\n",
       "      <td>0.571303</td>\n",
       "      <td>0.688542</td>\n",
       "      <td>0.594953</td>\n",
       "      <td>0.641667</td>\n",
       "      <td>1.260358</td>\n",
       "      <td>0.368750</td>\n",
       "    </tr>\n",
       "    <tr>\n",
       "      <th>4</th>\n",
       "      <td>0.397835</td>\n",
       "      <td>0.833333</td>\n",
       "      <td>0.542939</td>\n",
       "      <td>0.713542</td>\n",
       "      <td>0.587140</td>\n",
       "      <td>0.648958</td>\n",
       "      <td>1.214399</td>\n",
       "      <td>0.376042</td>\n",
       "    </tr>\n",
       "    <tr>\n",
       "      <th>5</th>\n",
       "      <td>0.382106</td>\n",
       "      <td>0.843750</td>\n",
       "      <td>0.517963</td>\n",
       "      <td>0.738542</td>\n",
       "      <td>0.579561</td>\n",
       "      <td>0.653125</td>\n",
       "      <td>1.169307</td>\n",
       "      <td>0.383333</td>\n",
       "    </tr>\n",
       "    <tr>\n",
       "      <th>6</th>\n",
       "      <td>0.367951</td>\n",
       "      <td>0.855208</td>\n",
       "      <td>0.495945</td>\n",
       "      <td>0.763542</td>\n",
       "      <td>0.572168</td>\n",
       "      <td>0.659375</td>\n",
       "      <td>1.126254</td>\n",
       "      <td>0.392708</td>\n",
       "    </tr>\n",
       "    <tr>\n",
       "      <th>7</th>\n",
       "      <td>0.355115</td>\n",
       "      <td>0.864583</td>\n",
       "      <td>0.476464</td>\n",
       "      <td>0.778125</td>\n",
       "      <td>0.564922</td>\n",
       "      <td>0.666667</td>\n",
       "      <td>1.084940</td>\n",
       "      <td>0.397917</td>\n",
       "    </tr>\n",
       "    <tr>\n",
       "      <th>8</th>\n",
       "      <td>0.343317</td>\n",
       "      <td>0.875000</td>\n",
       "      <td>0.459169</td>\n",
       "      <td>0.796875</td>\n",
       "      <td>0.557887</td>\n",
       "      <td>0.675000</td>\n",
       "      <td>1.045050</td>\n",
       "      <td>0.408333</td>\n",
       "    </tr>\n",
       "    <tr>\n",
       "      <th>9</th>\n",
       "      <td>0.332474</td>\n",
       "      <td>0.880208</td>\n",
       "      <td>0.443752</td>\n",
       "      <td>0.808333</td>\n",
       "      <td>0.551017</td>\n",
       "      <td>0.685417</td>\n",
       "      <td>1.005900</td>\n",
       "      <td>0.411458</td>\n",
       "    </tr>\n",
       "    <tr>\n",
       "      <th>10</th>\n",
       "      <td>0.322340</td>\n",
       "      <td>0.886458</td>\n",
       "      <td>0.429988</td>\n",
       "      <td>0.820833</td>\n",
       "      <td>0.544303</td>\n",
       "      <td>0.692708</td>\n",
       "      <td>0.968744</td>\n",
       "      <td>0.433333</td>\n",
       "    </tr>\n",
       "    <tr>\n",
       "      <th>11</th>\n",
       "      <td>0.312973</td>\n",
       "      <td>0.896875</td>\n",
       "      <td>0.417530</td>\n",
       "      <td>0.828125</td>\n",
       "      <td>0.537739</td>\n",
       "      <td>0.698958</td>\n",
       "      <td>0.933422</td>\n",
       "      <td>0.450000</td>\n",
       "    </tr>\n",
       "    <tr>\n",
       "      <th>12</th>\n",
       "      <td>0.304173</td>\n",
       "      <td>0.903125</td>\n",
       "      <td>0.406254</td>\n",
       "      <td>0.831250</td>\n",
       "      <td>0.531332</td>\n",
       "      <td>0.705208</td>\n",
       "      <td>0.899283</td>\n",
       "      <td>0.471875</td>\n",
       "    </tr>\n",
       "    <tr>\n",
       "      <th>13</th>\n",
       "      <td>0.295927</td>\n",
       "      <td>0.908333</td>\n",
       "      <td>0.395963</td>\n",
       "      <td>0.832292</td>\n",
       "      <td>0.525075</td>\n",
       "      <td>0.711458</td>\n",
       "      <td>0.866813</td>\n",
       "      <td>0.486458</td>\n",
       "    </tr>\n",
       "    <tr>\n",
       "      <th>14</th>\n",
       "      <td>0.288189</td>\n",
       "      <td>0.913542</td>\n",
       "      <td>0.386504</td>\n",
       "      <td>0.838542</td>\n",
       "      <td>0.518963</td>\n",
       "      <td>0.716667</td>\n",
       "      <td>0.836453</td>\n",
       "      <td>0.511458</td>\n",
       "    </tr>\n",
       "    <tr>\n",
       "      <th>15</th>\n",
       "      <td>0.280880</td>\n",
       "      <td>0.915625</td>\n",
       "      <td>0.377818</td>\n",
       "      <td>0.842708</td>\n",
       "      <td>0.512960</td>\n",
       "      <td>0.721875</td>\n",
       "      <td>0.807455</td>\n",
       "      <td>0.531250</td>\n",
       "    </tr>\n",
       "    <tr>\n",
       "      <th>16</th>\n",
       "      <td>0.273975</td>\n",
       "      <td>0.915625</td>\n",
       "      <td>0.369736</td>\n",
       "      <td>0.844792</td>\n",
       "      <td>0.507106</td>\n",
       "      <td>0.728125</td>\n",
       "      <td>0.779460</td>\n",
       "      <td>0.547917</td>\n",
       "    </tr>\n",
       "    <tr>\n",
       "      <th>17</th>\n",
       "      <td>0.267421</td>\n",
       "      <td>0.917708</td>\n",
       "      <td>0.362242</td>\n",
       "      <td>0.848958</td>\n",
       "      <td>0.501367</td>\n",
       "      <td>0.736458</td>\n",
       "      <td>0.753185</td>\n",
       "      <td>0.566667</td>\n",
       "    </tr>\n",
       "    <tr>\n",
       "      <th>18</th>\n",
       "      <td>0.261234</td>\n",
       "      <td>0.919792</td>\n",
       "      <td>0.355230</td>\n",
       "      <td>0.851042</td>\n",
       "      <td>0.495752</td>\n",
       "      <td>0.738542</td>\n",
       "      <td>0.728011</td>\n",
       "      <td>0.578125</td>\n",
       "    </tr>\n",
       "    <tr>\n",
       "      <th>19</th>\n",
       "      <td>0.255341</td>\n",
       "      <td>0.920833</td>\n",
       "      <td>0.348621</td>\n",
       "      <td>0.858333</td>\n",
       "      <td>0.490259</td>\n",
       "      <td>0.741667</td>\n",
       "      <td>0.704725</td>\n",
       "      <td>0.608333</td>\n",
       "    </tr>\n",
       "  </tbody>\n",
       "</table>\n",
       "</div>"
      ],
      "text/plain": [
       "batch_size       16                  32                  64             \\\n",
       "metric          loss  accuracy      loss  accuracy      loss  accuracy   \n",
       "0           0.487789  0.779167  0.680945  0.630208  0.619648  0.626042   \n",
       "1           0.459473  0.798958  0.639959  0.648958  0.611191  0.630208   \n",
       "2           0.435797  0.819792  0.603523  0.665625  0.602961  0.633333   \n",
       "3           0.415535  0.826042  0.571303  0.688542  0.594953  0.641667   \n",
       "4           0.397835  0.833333  0.542939  0.713542  0.587140  0.648958   \n",
       "5           0.382106  0.843750  0.517963  0.738542  0.579561  0.653125   \n",
       "6           0.367951  0.855208  0.495945  0.763542  0.572168  0.659375   \n",
       "7           0.355115  0.864583  0.476464  0.778125  0.564922  0.666667   \n",
       "8           0.343317  0.875000  0.459169  0.796875  0.557887  0.675000   \n",
       "9           0.332474  0.880208  0.443752  0.808333  0.551017  0.685417   \n",
       "10          0.322340  0.886458  0.429988  0.820833  0.544303  0.692708   \n",
       "11          0.312973  0.896875  0.417530  0.828125  0.537739  0.698958   \n",
       "12          0.304173  0.903125  0.406254  0.831250  0.531332  0.705208   \n",
       "13          0.295927  0.908333  0.395963  0.832292  0.525075  0.711458   \n",
       "14          0.288189  0.913542  0.386504  0.838542  0.518963  0.716667   \n",
       "15          0.280880  0.915625  0.377818  0.842708  0.512960  0.721875   \n",
       "16          0.273975  0.915625  0.369736  0.844792  0.507106  0.728125   \n",
       "17          0.267421  0.917708  0.362242  0.848958  0.501367  0.736458   \n",
       "18          0.261234  0.919792  0.355230  0.851042  0.495752  0.738542   \n",
       "19          0.255341  0.920833  0.348621  0.858333  0.490259  0.741667   \n",
       "\n",
       "batch_size       128            \n",
       "metric          loss  accuracy  \n",
       "0           1.407490  0.352083  \n",
       "1           1.357177  0.355208  \n",
       "2           1.307932  0.359375  \n",
       "3           1.260358  0.368750  \n",
       "4           1.214399  0.376042  \n",
       "5           1.169307  0.383333  \n",
       "6           1.126254  0.392708  \n",
       "7           1.084940  0.397917  \n",
       "8           1.045050  0.408333  \n",
       "9           1.005900  0.411458  \n",
       "10          0.968744  0.433333  \n",
       "11          0.933422  0.450000  \n",
       "12          0.899283  0.471875  \n",
       "13          0.866813  0.486458  \n",
       "14          0.836453  0.511458  \n",
       "15          0.807455  0.531250  \n",
       "16          0.779460  0.547917  \n",
       "17          0.753185  0.566667  \n",
       "18          0.728011  0.578125  \n",
       "19          0.704725  0.608333  "
      ]
     },
     "execution_count": 71,
     "metadata": {},
     "output_type": "execute_result"
    }
   ],
   "source": [
    "historydf"
   ]
  },
  {
   "cell_type": "code",
   "execution_count": 72,
   "metadata": {},
   "outputs": [
    {
     "data": {
      "image/png": "[encoded data removed]",
      "text/plain": [
       "<Figure size 432x288 with 2 Axes>"
      ]
     },
     "metadata": {
      "needs_background": "light"
     },
     "output_type": "display_data"
    }
   ],
   "source": [
    "ax = plt.subplot(211)\n",
    "historydf.xs('loss', axis=1, level='metric').plot(ylim=(0,1), ax=ax)\n",
    "plt.title(\"Loss\")\n",
    "\n",
    "ax = plt.subplot(212)\n",
    "historydf.xs('accuracy', axis=1, level='metric').plot(ylim=(0,1), ax=ax)\n",
    "plt.title(\"Accuracy\")\n",
    "plt.xlabel(\"Epochs\")\n",
    "\n",
    "plt.tight_layout()"
   ]
  },
  {
   "cell_type": "markdown",
   "metadata": {},
   "source": [
    "## Optimizers"
   ]
  },
  {
   "cell_type": "code",
   "execution_count": 74,
   "metadata": {},
   "outputs": [],
   "source": [
    "from tensorflow.keras.optimizers import SGD, Adam, Adagrad, RMSprop"
   ]
  },
  {
   "cell_type": "code",
   "execution_count": 75,
   "metadata": {},
   "outputs": [],
   "source": [
    "dflist = []\n",
    "\n",
    "optimizers = ['SGD(lr=0.01)',\n",
    "              'SGD(lr=0.01, momentum=0.3)',\n",
    "              'SGD(lr=0.01, momentum=0.3, nesterov=True)',  \n",
    "              'Adam(lr=0.01)',\n",
    "              'Adagrad(lr=0.01)',\n",
    "              'RMSprop(lr=0.01)']\n",
    "\n",
    "for opt_name in optimizers:\n",
    "\n",
    "    K.clear_session()\n",
    "    \n",
    "    model = Sequential()\n",
    "    model.add(Dense(1, input_shape=(4,), activation='sigmoid'))\n",
    "    model.compile(loss='binary_crossentropy',\n",
    "                  optimizer=eval(opt_name),\n",
    "                  metrics=['accuracy'])\n",
    "    h = model.fit(X_train, y_train, batch_size=16, epochs=5, verbose=0)\n",
    "    \n",
    "    dflist.append(pd.DataFrame(h.history, index=h.epoch))"
   ]
  },
  {
   "cell_type": "code",
   "execution_count": 76,
   "metadata": {},
   "outputs": [],
   "source": [
    "historydf = pd.concat(dflist, axis=1)\n",
    "metrics_reported = dflist[0].columns\n",
    "idx = pd.MultiIndex.from_product([optimizers, metrics_reported],\n",
    "                                 names=['optimizers', 'metric'])\n",
    "historydf.columns = idx"
   ]
  },
  {
   "cell_type": "code",
   "execution_count": 78,
   "metadata": {},
   "outputs": [
    {
     "data": {
      "image/png": "[encoded data removed]",
      "text/plain": [
       "<Figure size 432x288 with 2 Axes>"
      ]
     },
     "metadata": {
      "needs_background": "light"
     },
     "output_type": "display_data"
    }
   ],
   "source": [
    "ax = plt.subplot(211)\n",
    "historydf.xs('loss', axis=1, level='metric').plot(ylim=(0,1), ax=ax)\n",
    "plt.title(\"Loss\")\n",
    "\n",
    "ax = plt.subplot(212)\n",
    "historydf.xs('accuracy', axis=1, level='metric').plot(ylim=(0,1), ax=ax)\n",
    "plt.title(\"Accuracy\")\n",
    "plt.xlabel(\"Epochs\")\n",
    "\n",
    "plt.tight_layout()"
   ]
  },
  {
   "cell_type": "markdown",
   "metadata": {},
   "source": [
    "## Initialization\n",
    "\n",
    "https://keras.io/initializers/"
   ]
  },
  {
   "cell_type": "code",
   "execution_count": 79,
   "metadata": {},
   "outputs": [],
   "source": [
    "dflist = []\n",
    "\n",
    "initializers = ['zeros', 'uniform', 'normal',\n",
    "                'he_normal', 'lecun_uniform']\n",
    "\n",
    "for init in initializers:\n",
    "\n",
    "    K.clear_session()\n",
    "\n",
    "    model = Sequential()\n",
    "    model.add(Dense(1, input_shape=(4,),\n",
    "                    kernel_initializer=init,\n",
    "                    activation='sigmoid'))\n",
    "\n",
    "    model.compile(loss='binary_crossentropy',\n",
    "                  optimizer='rmsprop',\n",
    "                  metrics=['accuracy'])\n",
    "\n",
    "    h = model.fit(X_train, y_train, batch_size=16, epochs=5, verbose=0)\n",
    "    \n",
    "    dflist.append(pd.DataFrame(h.history, index=h.epoch))"
   ]
  },
  {
   "cell_type": "code",
   "execution_count": 80,
   "metadata": {},
   "outputs": [],
   "source": [
    "historydf = pd.concat(dflist, axis=1)\n",
    "metrics_reported = dflist[0].columns\n",
    "idx = pd.MultiIndex.from_product([initializers, metrics_reported],\n",
    "                                 names=['initializers', 'metric'])\n",
    "\n",
    "historydf.columns = idx"
   ]
  },
  {
   "cell_type": "code",
   "execution_count": 81,
   "metadata": {},
   "outputs": [
    {
     "data": {
      "image/png": "[encoded data removed]",
      "text/plain": [
       "<Figure size 432x288 with 2 Axes>"
      ]
     },
     "metadata": {
      "needs_background": "light"
     },
     "output_type": "display_data"
    }
   ],
   "source": [
    "ax = plt.subplot(211)\n",
    "historydf.xs('loss', axis=1, level='metric').plot(ylim=(0,1), ax=ax)\n",
    "plt.title(\"Loss\")\n",
    "\n",
    "ax = plt.subplot(212)\n",
    "historydf.xs('accuracy', axis=1, level='metric').plot(ylim=(0,1), ax=ax)\n",
    "plt.title(\"Accuracy\")\n",
    "plt.xlabel(\"Epochs\")\n",
    "\n",
    "plt.tight_layout()"
   ]
  },
  {
   "cell_type": "markdown",
   "metadata": {},
   "source": [
    "## Inner layer representation"
   ]
  },
  {
   "cell_type": "code",
   "execution_count": 83,
   "metadata": {},
   "outputs": [
    {
     "name": "stdout",
     "output_type": "stream",
     "text": [
      "Train on 672 samples, validate on 288 samples\n",
      "Epoch 1/20\n",
      "672/672 [==============================] - 1s 761us/sample - loss: 0.6385 - accuracy: 0.6994 - val_loss: 0.5582 - val_accuracy: 0.7951\n",
      "Epoch 2/20\n",
      "672/672 [==============================] - 0s 86us/sample - loss: 0.4379 - accuracy: 0.8646 - val_loss: 0.3975 - val_accuracy: 0.8785\n",
      "Epoch 3/20\n",
      "672/672 [==============================] - 0s 84us/sample - loss: 0.3126 - accuracy: 0.9226 - val_loss: 0.2821 - val_accuracy: 0.9618\n",
      "Epoch 4/20\n",
      "672/672 [==============================] - 0s 81us/sample - loss: 0.2257 - accuracy: 0.9643 - val_loss: 0.2019 - val_accuracy: 0.9757\n",
      "Epoch 5/20\n",
      "672/672 [==============================] - 0s 86us/sample - loss: 0.1638 - accuracy: 0.9762 - val_loss: 0.1458 - val_accuracy: 0.9826\n",
      "Epoch 6/20\n",
      "672/672 [==============================] - 0s 89us/sample - loss: 0.1231 - accuracy: 0.9807 - val_loss: 0.1119 - val_accuracy: 0.9861\n",
      "Epoch 7/20\n",
      "672/672 [==============================] - 0s 92us/sample - loss: 0.0973 - accuracy: 0.9836 - val_loss: 0.0855 - val_accuracy: 0.9826\n",
      "Epoch 8/20\n",
      "672/672 [==============================] - 0s 88us/sample - loss: 0.0800 - accuracy: 0.9821 - val_loss: 0.0716 - val_accuracy: 0.9826\n",
      "Epoch 9/20\n",
      "672/672 [==============================] - 0s 89us/sample - loss: 0.0689 - accuracy: 0.9821 - val_loss: 0.0610 - val_accuracy: 0.9861\n",
      "Epoch 10/20\n",
      "672/672 [==============================] - 0s 88us/sample - loss: 0.0606 - accuracy: 0.9821 - val_loss: 0.0527 - val_accuracy: 0.9861\n",
      "Epoch 11/20\n",
      "672/672 [==============================] - 0s 84us/sample - loss: 0.0551 - accuracy: 0.9821 - val_loss: 0.0470 - val_accuracy: 0.9861\n",
      "Epoch 12/20\n",
      "672/672 [==============================] - 0s 85us/sample - loss: 0.0507 - accuracy: 0.9821 - val_loss: 0.0425 - val_accuracy: 0.9861\n",
      "Epoch 13/20\n",
      "672/672 [==============================] - 0s 91us/sample - loss: 0.0459 - accuracy: 0.9851 - val_loss: 0.0393 - val_accuracy: 0.9861\n",
      "Epoch 14/20\n",
      "672/672 [==============================] - 0s 91us/sample - loss: 0.0433 - accuracy: 0.9851 - val_loss: 0.0367 - val_accuracy: 0.9861\n",
      "Epoch 15/20\n",
      "672/672 [==============================] - 0s 94us/sample - loss: 0.0412 - accuracy: 0.9836 - val_loss: 0.0341 - val_accuracy: 0.9861\n",
      "Epoch 16/20\n",
      "672/672 [==============================] - 0s 82us/sample - loss: 0.0392 - accuracy: 0.9881 - val_loss: 0.0335 - val_accuracy: 0.9896\n",
      "Epoch 17/20\n",
      "672/672 [==============================] - 0s 89us/sample - loss: 0.0372 - accuracy: 0.9896 - val_loss: 0.0313 - val_accuracy: 0.9861\n",
      "Epoch 18/20\n",
      "672/672 [==============================] - 0s 83us/sample - loss: 0.0361 - accuracy: 0.9851 - val_loss: 0.0299 - val_accuracy: 0.9896\n",
      "Epoch 19/20\n",
      "672/672 [==============================] - 0s 83us/sample - loss: 0.0353 - accuracy: 0.9866 - val_loss: 0.0282 - val_accuracy: 0.9861\n",
      "Epoch 20/20\n",
      "672/672 [==============================] - 0s 85us/sample - loss: 0.0344 - accuracy: 0.9866 - val_loss: 0.0272 - val_accuracy: 0.9896\n"
     ]
    }
   ],
   "source": [
    "K.clear_session()\n",
    "\n",
    "model = Sequential()\n",
    "model.add(Dense(2, input_shape=(4,), activation='relu'))\n",
    "model.add(Dense(1, activation='sigmoid'))\n",
    "model.compile(loss='binary_crossentropy',\n",
    "              optimizer=RMSprop(lr=0.01),\n",
    "              metrics=['accuracy'])\n",
    "\n",
    "h = model.fit(X_train, y_train, batch_size=16, epochs=20,\n",
    "              verbose=1, validation_split=0.3)\n",
    "result = model.evaluate(X_test, y_test, verbose=0)"
   ]
  },
  {
   "cell_type": "code",
   "execution_count": 84,
   "metadata": {},
   "outputs": [
    {
     "data": {
      "text/plain": [
       "[0.03363971397714707, 0.9878641]"
      ]
     },
     "execution_count": 84,
     "metadata": {},
     "output_type": "execute_result"
    }
   ],
   "source": [
    "result"
   ]
  },
  {
   "cell_type": "code",
   "execution_count": 85,
   "metadata": {},
   "outputs": [
    {
     "name": "stdout",
     "output_type": "stream",
     "text": [
      "Model: \"sequential\"\n",
      "_________________________________________________________________\n",
      "Layer (type)                 Output Shape              Param #   \n",
      "=================================================================\n",
      "dense (Dense)                (None, 2)                 10        \n",
      "_________________________________________________________________\n",
      "dense_1 (Dense)              (None, 1)                 3         \n",
      "=================================================================\n",
      "Total params: 13\n",
      "Trainable params: 13\n",
      "Non-trainable params: 0\n",
      "_________________________________________________________________\n"
     ]
    }
   ],
   "source": [
    "model.summary()"
   ]
  },
  {
   "cell_type": "code",
   "execution_count": 86,
   "metadata": {},
   "outputs": [
    {
     "data": {
      "text/plain": [
       "[<tensorflow.python.keras.layers.core.Dense at 0x14a049e10>,\n",
       " <tensorflow.python.keras.layers.core.Dense at 0x14a049eb8>]"
      ]
     },
     "execution_count": 86,
     "metadata": {},
     "output_type": "execute_result"
    }
   ],
   "source": [
    "model.layers"
   ]
  },
  {
   "cell_type": "code",
   "execution_count": 87,
   "metadata": {},
   "outputs": [],
   "source": [
    "inp = model.layers[0].input\n",
    "out = model.layers[0].output"
   ]
  },
  {
   "cell_type": "code",
   "execution_count": 88,
   "metadata": {},
   "outputs": [
    {
     "data": {
      "text/plain": [
       "<tf.Tensor 'dense_input:0' shape=(None, 4) dtype=float32>"
      ]
     },
     "execution_count": 88,
     "metadata": {},
     "output_type": "execute_result"
    }
   ],
   "source": [
    "inp"
   ]
  },
  {
   "cell_type": "code",
   "execution_count": 89,
   "metadata": {},
   "outputs": [
    {
     "data": {
      "text/plain": [
       "<tf.Tensor 'dense/Identity:0' shape=(None, 2) dtype=float32>"
      ]
     },
     "execution_count": 89,
     "metadata": {},
     "output_type": "execute_result"
    }
   ],
   "source": [
    "out"
   ]
  },
  {
   "cell_type": "code",
   "execution_count": 90,
   "metadata": {},
   "outputs": [],
   "source": [
    "features_function = K.function([inp], [out])"
   ]
  },
  {
   "cell_type": "code",
   "execution_count": 91,
   "metadata": {},
   "outputs": [
    {
     "data": {
      "text/plain": [
       "<tensorflow.python.keras.backend.EagerExecutionFunction at 0x12ef91f98>"
      ]
     },
     "execution_count": 91,
     "metadata": {},
     "output_type": "execute_result"
    }
   ],
   "source": [
    "features_function"
   ]
  },
  {
   "cell_type": "code",
   "execution_count": 92,
   "metadata": {},
   "outputs": [
    {
     "data": {
      "text/plain": [
       "(412, 2)"
      ]
     },
     "execution_count": 92,
     "metadata": {},
     "output_type": "execute_result"
    }
   ],
   "source": [
    "features_function([X_test])[0].shape"
   ]
  },
  {
   "cell_type": "code",
   "execution_count": 93,
   "metadata": {},
   "outputs": [],
   "source": [
    "features = features_function([X_test])[0]"
   ]
  },
  {
   "cell_type": "code",
   "execution_count": 94,
   "metadata": {},
   "outputs": [
    {
     "data": {
      "text/plain": [
       "<matplotlib.collections.PathCollection at 0x14a6c4240>"
      ]
     },
     "execution_count": 94,
     "metadata": {},
     "output_type": "execute_result"
    },
    {
     "data": {
      "image/png": "[encoded data removed]",
      "text/plain": [
       "<Figure size 432x288 with 1 Axes>"
      ]
     },
     "metadata": {
      "needs_background": "light"
     },
     "output_type": "display_data"
    }
   ],
   "source": [
    "plt.scatter(features[:, 0], features[:, 1], c=y_test, cmap='coolwarm')"
   ]
  },
  {
   "cell_type": "code",
   "execution_count": 95,
   "metadata": {},
   "outputs": [],
   "source": [
    "K.clear_session()\n",
    "\n",
    "model = Sequential()\n",
    "model.add(Dense(3, input_shape=(4,), activation='relu'))\n",
    "model.add(Dense(2, activation='relu'))\n",
    "model.add(Dense(1, activation='sigmoid'))\n",
    "model.compile(loss='binary_crossentropy',\n",
    "              optimizer=RMSprop(lr=0.01),\n",
    "              metrics=['accuracy'])"
   ]
  },
  {
   "cell_type": "code",
   "execution_count": 97,
   "metadata": {},
   "outputs": [
    {
     "data": {
      "image/png": "[encoded data removed]",
      "text/plain": [
       "<Figure size 1080x720 with 25 Axes>"
      ]
     },
     "metadata": {
      "needs_background": "light"
     },
     "output_type": "display_data"
    }
   ],
   "source": [
    "inp = model.layers[0].input\n",
    "out = model.layers[1].output\n",
    "features_function = K.function([inp], [out])\n",
    "\n",
    "plt.figure(figsize=(15,10))\n",
    "\n",
    "for i in range(1, 26):\n",
    "    plt.subplot(5, 5, i)\n",
    "    h = model.fit(X_train, y_train, batch_size=16, epochs=1, verbose=0)\n",
    "    test_accuracy = model.evaluate(X_test, y_test, verbose=0)[1]\n",
    "    features = features_function([X_test])[0]\n",
    "    plt.scatter(features[:, 0], features[:, 1], c=y_test, cmap='coolwarm')\n",
    "    plt.xlim(-0.5, 3.5)\n",
    "    plt.ylim(-0.5, 4.0)\n",
    "    plt.title('Epoch: {}, Test Acc: {:3.1f} %'.format(i, test_accuracy * 100.0))\n",
    "\n",
    "plt.tight_layout()"
   ]
  },
  {
   "cell_type": "markdown",
   "metadata": {},
   "source": [
    "### Exercise 1\n",
    "\n",
    "You've just been hired at a wine company and they would like you to help them build a model that predicts the quality of their wine based on several measurements. They give you a dataset with wine\n",
    "\n",
    "- Load the ../data/wines.csv into Pandas\n",
    "- Use the column called \"Class\" as target\n",
    "- Check how many classes are there in target, and if necessary use dummy columns for a multi-class classification\n",
    "- Use all the other columns as features, check their range and distribution (using seaborn pairplot)\n",
    "- Rescale all the features using either MinMaxScaler or StandardScaler\n",
    "- Build a deep model with at least 1 hidden layer to classify the data\n",
    "- Choose the cost function, what will you use? Mean Squared Error? Binary Cross-Entropy? Categorical Cross-Entropy?\n",
    "- Choose an optimizer\n",
    "- Choose a value for the learning rate, you may want to try with several values\n",
    "- Choose a batch size\n",
    "- Train your model on all the data using a `validation_split=0.2`. Can you converge to 100% validation accuracy?\n",
    "- What's the minumum number of epochs to converge?\n",
    "- Repeat the training several times to verify how stable your results are"
   ]
  },
  {
   "cell_type": "code",
   "execution_count": null,
   "metadata": {
    "collapsed": true
   },
   "outputs": [],
   "source": []
  },
  {
   "cell_type": "markdown",
   "metadata": {},
   "source": [
    "### Exercise 2\n",
    "\n",
    "Since this dataset has 13 features we can only visualize pairs of features like we did in the Paired plot. We could however exploit the fact that a neural network is a function to extract 2 high level features to represent our data.\n",
    "\n",
    "- Build a deep fully connected network with the following structure:\n",
    "    - Layer 1: 8 nodes\n",
    "    - Layer 2: 5 nodes\n",
    "    - Layer 3: 2 nodes\n",
    "    - Output : 3 nodes\n",
    "- Choose activation functions, inizializations, optimizer and learning rate so that it converges to 100% accuracy within 20 epochs (not easy)\n",
    "- Remember to train the model on the scaled data\n",
    "- Define a Feature Funtion like we did above between the input of the 1st layer and the output of the 3rd layer\n",
    "- Calculate the features and plot them on a 2-dimensional scatter plot\n",
    "- Can we distinguish the 3 classes well?\n"
   ]
  },
  {
   "cell_type": "code",
   "execution_count": null,
   "metadata": {
    "collapsed": true
   },
   "outputs": [],
   "source": []
  },
  {
   "cell_type": "markdown",
   "metadata": {},
   "source": [
    "### Exercise 3\n",
    "\n",
    "Keras functional API. So far we've always used the Sequential model API in Keras. However, Keras also offers a Functional API, which is much more powerful. You can find its [documentation here](https://keras.io/getting-started/functional-api-guide/). Let's see how we can leverage it.\n",
    "\n",
    "- define an input layer called `inputs`\n",
    "- define two hidden layers as before, one with 8 nodes, one with 5 nodes\n",
    "- define a `second_to_last` layer with 2 nodes\n",
    "- define an output layer with 3 nodes\n",
    "- create a model that connect input and output\n",
    "- train it and make sure that it converges\n",
    "- define a function between inputs and second_to_last layer\n",
    "- recalculate the features and plot them"
   ]
  },
  {
   "cell_type": "code",
   "execution_count": null,
   "metadata": {
    "collapsed": true
   },
   "outputs": [],
   "source": []
  },
  {
   "cell_type": "markdown",
   "metadata": {},
   "source": [
    "### Exercise 4 \n",
    "\n",
    "Keras offers the possibility to call a function at each epoch. These are Callbacks, and their [documentation is here](https://keras.io/callbacks/). Callbacks allow us to add some neat functionality. In this exercise we'll explore a few of them.\n",
    "\n",
    "- Split the data into train and test sets with a test_size = 0.3 and random_state=42\n",
    "- Reset and recompile your model\n",
    "- train the model on the train data using `validation_data=(X_test, y_test)`\n",
    "- Use the `EarlyStopping` callback to stop your training if the `val_loss` doesn't improve\n",
    "- Use the `ModelCheckpoint` callback to save the trained model to disk once training is finished\n",
    "- Use the `TensorBoard` callback to output your training information to a `/tmp/` subdirectory\n",
    "- Watch the next video for an overview of tensorboard"
   ]
  },
  {
   "cell_type": "code",
   "execution_count": null,
   "metadata": {
    "collapsed": true
   },
   "outputs": [],
   "source": []
  }
 ],
 "metadata": {
  "kernelspec": {
   "display_name": "Python 3",
   "language": "python",
   "name": "python3"
  },
  "language_info": {
   "codemirror_mode": {
    "name": "ipython",
    "version": 3
   },
   "file_extension": ".py",
   "mimetype": "text/x-python",
   "name": "python",
   "nbconvert_exporter": "python",
   "pygments_lexer": "ipython3",
   "version": "3.7.3"
  }
 },
 "nbformat": 4,
 "nbformat_minor": 2
}
